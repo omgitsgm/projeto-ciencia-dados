{
 "cells": [
  {
   "cell_type": "markdown",
   "id": "43200bab",
   "metadata": {},
   "source": [
    "# Projeto Parcial Ciência de Dados (N1)\n",
    "\n",
    "| Nome | RA |\n",
    "| ---- | -- |\n",
    "| Enzo Ferroni | 10417100 |\n",
    "| Luiz Gabriel Profirio Mendes | 10382703 |\n",
    "\n"
   ]
  },
  {
   "cell_type": "markdown",
   "id": "b3f8fd72",
   "metadata": {},
   "source": [
    "## Escolha dos Modelos\n",
    "\n",
    "---"
   ]
  },
  {
   "cell_type": "code",
   "execution_count": null,
   "id": "4746d029",
   "metadata": {
    "vscode": {
     "languageId": "plaintext"
    }
   },
   "outputs": [],
   "source": []
  },
  {
   "cell_type": "markdown",
   "id": "a95dc384",
   "metadata": {},
   "source": [
    "## Pré-processamento básico\n",
    "\n",
    "---"
   ]
  },
  {
   "cell_type": "code",
   "execution_count": null,
   "id": "35f48bcc",
   "metadata": {
    "vscode": {
     "languageId": "plaintext"
    }
   },
   "outputs": [],
   "source": []
  },
  {
   "cell_type": "markdown",
   "id": "a18dab0d",
   "metadata": {},
   "source": [
    "## Implementação\n",
    "\n",
    "---"
   ]
  },
  {
   "cell_type": "code",
   "execution_count": null,
   "id": "688588a4",
   "metadata": {
    "vscode": {
     "languageId": "plaintext"
    }
   },
   "outputs": [],
   "source": []
  },
  {
   "cell_type": "markdown",
   "id": "ea28a6ff",
   "metadata": {},
   "source": [
    "## Métricas\n",
    "\n",
    "---"
   ]
  },
  {
   "cell_type": "code",
   "execution_count": null,
   "id": "0cedc0a7",
   "metadata": {
    "vscode": {
     "languageId": "plaintext"
    }
   },
   "outputs": [],
   "source": []
  },
  {
   "cell_type": "markdown",
   "id": "ddae7c3f",
   "metadata": {},
   "source": [
    "## Comparação\n",
    "\n",
    "---"
   ]
  },
  {
   "cell_type": "code",
   "execution_count": null,
   "id": "0a21005d",
   "metadata": {
    "vscode": {
     "languageId": "plaintext"
    }
   },
   "outputs": [],
   "source": []
  },
  {
   "cell_type": "markdown",
   "id": "08bde05c",
   "metadata": {},
   "source": [
    "## Conclusão preliminar\n",
    "\n",
    "---"
   ]
  },
  {
   "cell_type": "code",
   "execution_count": null,
   "id": "44c08378",
   "metadata": {
    "vscode": {
     "languageId": "plaintext"
    }
   },
   "outputs": [],
   "source": []
  }
 ],
 "metadata": {
  "language_info": {
   "name": "python"
  }
 },
 "nbformat": 4,
 "nbformat_minor": 5
}
