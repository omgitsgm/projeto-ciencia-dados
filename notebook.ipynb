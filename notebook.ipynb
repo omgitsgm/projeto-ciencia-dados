{
  "cells": [
    {
      "cell_type": "markdown",
      "id": "43200bab",
      "metadata": {
        "id": "43200bab"
      },
      "source": [
        "# Projeto Parcial Ciência de Dados (N1)\n",
        "\n",
        "| Nome | RA |\n",
        "| ---- | -- |\n",
        "| Enzo Ferroni | 10417100 |\n",
        "| Luiz Gabriel Profirio Mendes | 10382703 |\n",
        "\n"
      ]
    },
    {
      "cell_type": "markdown",
      "id": "b3f8fd72",
      "metadata": {
        "id": "b3f8fd72"
      },
      "source": [
        "## Escolha dos Modelos\n",
        "\n",
        "---\n",
        "\n",
        "* ### Regressão Linear  \n",
        "A Regressão Linear foi escolhida por ser um modelo simples, direto e interpretável, capaz de estimar relações entre variáveis numéricas de forma eficiente. Neste projeto, ela foi utilizada para prever duas características sonoras das músicas: dançabilidade (danceability_%) e energia (energy_%), com base em outros atributos objetivos do áudio. A principal vantagem da Regressão Linear está na facilidade de identificar o impacto individual de cada variável preditora sobre o valor previsto, o que contribui para uma compreensão mais clara dos fatores que influenciam cada uma dessas características. Além disso, trata-se de um modelo com baixo custo computacional e adequado como linha de base para comparação com outras abordagens.\n",
        "\n",
        "* ### KNN  \n",
        "O modelo K-Nearest Neighbors Regressor foi selecionado por sua abordagem baseada em similaridade. Ele realiza previsões considerando a média das observações mais próximas no espaço das variáveis, o que o torna adequado para identificar padrões locais e relações não lineares. Assim como a Regressão Linear, o KNN foi aplicado na predição das variáveis danceability_% e energy_%. Para melhorar seu desempenho, foi realizada uma varredura de valores de k, analisando o comportamento do modelo em relação às métricas MAE, RMSE e R² para diferentes configurações. Isso permitiu escolher o valor de k mais adequado com base em resultados empíricos. A comparação entre os dois modelos permite avaliar se as variáveis sonoras apresentam relações mais bem explicadas por padrões lineares globais ou por agrupamentos locais de similaridade."
      ]
    },
    {
      "cell_type": "markdown",
      "id": "a95dc384",
      "metadata": {
        "id": "a95dc384"
      },
      "source": [
        "## Pré-processamento básico\n",
        "\n",
        "---"
      ]
    },
    {
      "cell_type": "code",
      "execution_count": null,
      "id": "35f48bcc",
      "metadata": {
        "id": "35f48bcc"
      },
      "outputs": [],
      "source": [
        "# Importa bibliotecas necessárias\n",
        "\n",
        "import pandas as pd\n",
        "import numpy as np\n",
        "import matplotlib.pyplot as plt\n",
        "from sklearn.neighbors import KNeighborsRegressor\n",
        "from sklearn.metrics import mean_absolute_error, mean_squared_error, r2_score\n",
        "from sklearn.model_selection import train_test_split\n",
        "from sklearn.linear_model import LinearRegression\n",
        "from sklearn.model_selection import train_test_split"
      ]
    },
    {
      "cell_type": "code",
      "execution_count": null,
      "id": "727ade43",
      "metadata": {
        "id": "727ade43"
      },
      "outputs": [],
      "source": [
        "# Lê CSV\n",
        "df = pd.read_csv(\"spotify-2023.csv\", encoding=\"latin1\")\n",
        "# Foi necessário usar o 'encoding' no bloco acima pois estava com o erro\n",
        "# UnicodeDecodeError: 'utf-8' codec can't decode bytes in position 7250-7251: invalid continuation byte\n"
      ]
    },
    {
      "cell_type": "code",
      "execution_count": null,
      "id": "f52fee40",
      "metadata": {
        "colab": {
          "base_uri": "https://localhost:8080/"
        },
        "id": "f52fee40",
        "outputId": "a2981c81-f511-485c-d8c9-8be33cb8273b"
      },
      "outputs": [
        {
          "name": "stdout",
          "output_type": "stream",
          "text": [
            "<class 'pandas.core.frame.DataFrame'>\n",
            "RangeIndex: 953 entries, 0 to 952\n",
            "Data columns (total 24 columns):\n",
            " #   Column                Non-Null Count  Dtype \n",
            "---  ------                --------------  ----- \n",
            " 0   track_name            953 non-null    object\n",
            " 1   artist(s)_name        953 non-null    object\n",
            " 2   artist_count          953 non-null    int64 \n",
            " 3   released_year         953 non-null    int64 \n",
            " 4   released_month        953 non-null    int64 \n",
            " 5   released_day          953 non-null    int64 \n",
            " 6   in_spotify_playlists  953 non-null    int64 \n",
            " 7   in_spotify_charts     953 non-null    int64 \n",
            " 8   streams               953 non-null    object\n",
            " 9   in_apple_playlists    953 non-null    int64 \n",
            " 10  in_apple_charts       953 non-null    int64 \n",
            " 11  in_deezer_playlists   953 non-null    object\n",
            " 12  in_deezer_charts      953 non-null    int64 \n",
            " 13  in_shazam_charts      903 non-null    object\n",
            " 14  bpm                   953 non-null    int64 \n",
            " 15  key                   858 non-null    object\n",
            " 16  mode                  953 non-null    object\n",
            " 17  danceability_%        953 non-null    int64 \n",
            " 18  valence_%             953 non-null    int64 \n",
            " 19  energy_%              953 non-null    int64 \n",
            " 20  acousticness_%        953 non-null    int64 \n",
            " 21  instrumentalness_%    953 non-null    int64 \n",
            " 22  liveness_%            953 non-null    int64 \n",
            " 23  speechiness_%         953 non-null    int64 \n",
            "dtypes: int64(17), object(7)\n",
            "memory usage: 178.8+ KB\n"
          ]
        }
      ],
      "source": [
        "# Exibe algumas informações básicas sobre o dataset.\n",
        "df.info()"
      ]
    },
    {
      "cell_type": "markdown",
      "id": "f9a248ed",
      "metadata": {
        "id": "f9a248ed"
      },
      "source": [
        "Existem alguns valores null para a coluna 'key'. Visualizaremos os valores que aparecem em key para saber se os valors realmente condizem com o que é esperado e, em seguida, removeremos as linhas em que key é null."
      ]
    },
    {
      "cell_type": "code",
      "execution_count": null,
      "id": "351c73c6",
      "metadata": {
        "colab": {
          "base_uri": "https://localhost:8080/",
          "height": 512
        },
        "id": "351c73c6",
        "outputId": "e2ad422d-cae9-4ca6-b65e-de111048bf37"
      },
      "outputs": [
        {
          "name": "stdout",
          "output_type": "stream",
          "text": [
            "Value counts para a coluna 'key':\n"
          ]
        },
        {
          "data": {
            "text/plain": [
              "key\n",
              "C#    120\n",
              "G      96\n",
              "G#     91\n",
              "F      89\n",
              "B      81\n",
              "D      81\n",
              "A      75\n",
              "F#     73\n",
              "E      62\n",
              "A#     57\n",
              "D#     33\n",
              "Name: count, dtype: int64"
            ]
          },
          "metadata": {},
          "output_type": "display_data"
        }
      ],
      "source": [
        "# Verificando os valores presentes em key\n",
        "print(\"Value counts para a coluna 'key':\")\n",
        "value_counts = df['key'].value_counts()\n",
        "display(value_counts)"
      ]
    },
    {
      "cell_type": "code",
      "execution_count": null,
      "id": "d79178f7",
      "metadata": {
        "colab": {
          "base_uri": "https://localhost:8080/"
        },
        "id": "d79178f7",
        "outputId": "ef0c4ed2-6e84-4eca-a250-9e34277d310e"
      },
      "outputs": [
        {
          "name": "stdout",
          "output_type": "stream",
          "text": [
            "<class 'pandas.core.frame.DataFrame'>\n",
            "Index: 858 entries, 0 to 952\n",
            "Data columns (total 24 columns):\n",
            " #   Column                Non-Null Count  Dtype \n",
            "---  ------                --------------  ----- \n",
            " 0   track_name            858 non-null    object\n",
            " 1   artist(s)_name        858 non-null    object\n",
            " 2   artist_count          858 non-null    int64 \n",
            " 3   released_year         858 non-null    int64 \n",
            " 4   released_month        858 non-null    int64 \n",
            " 5   released_day          858 non-null    int64 \n",
            " 6   in_spotify_playlists  858 non-null    int64 \n",
            " 7   in_spotify_charts     858 non-null    int64 \n",
            " 8   streams               858 non-null    object\n",
            " 9   in_apple_playlists    858 non-null    int64 \n",
            " 10  in_apple_charts       858 non-null    int64 \n",
            " 11  in_deezer_playlists   858 non-null    object\n",
            " 12  in_deezer_charts      858 non-null    int64 \n",
            " 13  in_shazam_charts      817 non-null    object\n",
            " 14  bpm                   858 non-null    int64 \n",
            " 15  key                   858 non-null    object\n",
            " 16  mode                  858 non-null    object\n",
            " 17  danceability_%        858 non-null    int64 \n",
            " 18  valence_%             858 non-null    int64 \n",
            " 19  energy_%              858 non-null    int64 \n",
            " 20  acousticness_%        858 non-null    int64 \n",
            " 21  instrumentalness_%    858 non-null    int64 \n",
            " 22  liveness_%            858 non-null    int64 \n",
            " 23  speechiness_%         858 non-null    int64 \n",
            "dtypes: int64(17), object(7)\n",
            "memory usage: 167.6+ KB\n"
          ]
        }
      ],
      "source": [
        "# Remove linhas onde key é null\n",
        "df = df.dropna(subset=['key'])\n",
        "\n",
        "# Exibe algumas informações básicas sobre o dataset.\n",
        "df.info()"
      ]
    },
    {
      "cell_type": "code",
      "execution_count": null,
      "id": "07e888e1",
      "metadata": {
        "colab": {
          "base_uri": "https://localhost:8080/"
        },
        "id": "07e888e1",
        "outputId": "5c17f448-1b4a-4464-9dab-073bc135b796"
      },
      "outputs": [
        {
          "name": "stdout",
          "output_type": "stream",
          "text": [
            "<class 'pandas.core.frame.DataFrame'>\n",
            "Index: 858 entries, 0 to 952\n",
            "Data columns (total 19 columns):\n",
            " #   Column                Non-Null Count  Dtype \n",
            "---  ------                --------------  ----- \n",
            " 0   track_name            858 non-null    object\n",
            " 1   artist(s)_name        858 non-null    object\n",
            " 2   artist_count          858 non-null    int64 \n",
            " 3   released_year         858 non-null    int64 \n",
            " 4   released_month        858 non-null    int64 \n",
            " 5   released_day          858 non-null    int64 \n",
            " 6   in_spotify_playlists  858 non-null    int64 \n",
            " 7   in_spotify_charts     858 non-null    int64 \n",
            " 8   streams               858 non-null    object\n",
            " 9   bpm                   858 non-null    int64 \n",
            " 10  key                   858 non-null    object\n",
            " 11  mode                  858 non-null    object\n",
            " 12  danceability_%        858 non-null    int64 \n",
            " 13  valence_%             858 non-null    int64 \n",
            " 14  energy_%              858 non-null    int64 \n",
            " 15  acousticness_%        858 non-null    int64 \n",
            " 16  instrumentalness_%    858 non-null    int64 \n",
            " 17  liveness_%            858 non-null    int64 \n",
            " 18  speechiness_%         858 non-null    int64 \n",
            "dtypes: int64(14), object(5)\n",
            "memory usage: 134.1+ KB\n"
          ]
        }
      ],
      "source": [
        "# Remove colunas de serviços que não serão cobertos em nossa análise.\n",
        "df = df.drop(columns=['in_apple_playlists', 'in_apple_charts', 'in_deezer_playlists', 'in_deezer_charts', 'in_shazam_charts'])\n",
        "\n",
        "# Exibe algumas informações básicas sobre o dataset.\n",
        "df.info()"
      ]
    },
    {
      "cell_type": "code",
      "execution_count": null,
      "id": "2e0a1547",
      "metadata": {
        "colab": {
          "base_uri": "https://localhost:8080/"
        },
        "id": "2e0a1547",
        "outputId": "c52cf72a-43dd-45f4-cfce-0a0795d05f85"
      },
      "outputs": [
        {
          "name": "stdout",
          "output_type": "stream",
          "text": [
            "<class 'pandas.core.frame.DataFrame'>\n",
            "Index: 857 entries, 0 to 952\n",
            "Data columns (total 19 columns):\n",
            " #   Column                Non-Null Count  Dtype \n",
            "---  ------                --------------  ----- \n",
            " 0   track_name            857 non-null    object\n",
            " 1   artist(s)_name        857 non-null    object\n",
            " 2   artist_count          857 non-null    int64 \n",
            " 3   released_year         857 non-null    int64 \n",
            " 4   released_month        857 non-null    int64 \n",
            " 5   released_day          857 non-null    int64 \n",
            " 6   in_spotify_playlists  857 non-null    int64 \n",
            " 7   in_spotify_charts     857 non-null    int64 \n",
            " 8   streams               857 non-null    object\n",
            " 9   bpm                   857 non-null    int64 \n",
            " 10  key                   857 non-null    object\n",
            " 11  mode                  857 non-null    object\n",
            " 12  danceability_%        857 non-null    int64 \n",
            " 13  valence_%             857 non-null    int64 \n",
            " 14  energy_%              857 non-null    int64 \n",
            " 15  acousticness_%        857 non-null    int64 \n",
            " 16  instrumentalness_%    857 non-null    int64 \n",
            " 17  liveness_%            857 non-null    int64 \n",
            " 18  speechiness_%         857 non-null    int64 \n",
            "dtypes: int64(14), object(5)\n",
            "memory usage: 133.9+ KB\n"
          ]
        }
      ],
      "source": [
        "# Remove linha da música Love Grows (Where My Rosemary Goes), pois há inconsistência nos dados.\n",
        "index = df[df['track_name'] == \"Love Grows (Where My Rosemary Goes)\"].index\n",
        "df = df.drop(index)\n",
        "\n",
        "df.info()\n"
      ]
    },
    {
      "cell_type": "markdown",
      "id": "e14a59ee",
      "metadata": {
        "id": "e14a59ee"
      },
      "source": [
        "A coluna streams possui um Dtype incorreto. Esperava-se um tipo int64, mas temos object. Realizaremos a conversão."
      ]
    },
    {
      "cell_type": "code",
      "execution_count": null,
      "id": "dc3646dd",
      "metadata": {
        "colab": {
          "base_uri": "https://localhost:8080/"
        },
        "id": "dc3646dd",
        "outputId": "f161320b-d545-4686-ad87-922f454d77ee"
      },
      "outputs": [
        {
          "name": "stdout",
          "output_type": "stream",
          "text": [
            "<class 'pandas.core.frame.DataFrame'>\n",
            "Index: 857 entries, 0 to 952\n",
            "Data columns (total 19 columns):\n",
            " #   Column                Non-Null Count  Dtype \n",
            "---  ------                --------------  ----- \n",
            " 0   track_name            857 non-null    object\n",
            " 1   artist(s)_name        857 non-null    object\n",
            " 2   artist_count          857 non-null    int64 \n",
            " 3   released_year         857 non-null    int64 \n",
            " 4   released_month        857 non-null    int64 \n",
            " 5   released_day          857 non-null    int64 \n",
            " 6   in_spotify_playlists  857 non-null    int64 \n",
            " 7   in_spotify_charts     857 non-null    int64 \n",
            " 8   streams               857 non-null    int64 \n",
            " 9   bpm                   857 non-null    int64 \n",
            " 10  key                   857 non-null    object\n",
            " 11  mode                  857 non-null    object\n",
            " 12  danceability_%        857 non-null    int64 \n",
            " 13  valence_%             857 non-null    int64 \n",
            " 14  energy_%              857 non-null    int64 \n",
            " 15  acousticness_%        857 non-null    int64 \n",
            " 16  instrumentalness_%    857 non-null    int64 \n",
            " 17  liveness_%            857 non-null    int64 \n",
            " 18  speechiness_%         857 non-null    int64 \n",
            "dtypes: int64(15), object(4)\n",
            "memory usage: 133.9+ KB\n"
          ]
        }
      ],
      "source": [
        "# Converte streams para numérico\n",
        "df['streams'] = pd.to_numeric(df['streams'])\n",
        "\n",
        "df.info()"
      ]
    },
    {
      "cell_type": "markdown",
      "id": "4373f263",
      "metadata": {
        "id": "4373f263"
      },
      "source": [
        "A coluna mode contém valores como \"Major\" e \"Minor\". Iremos transformar esses valores para 1 e 0, respectivamente, para tornar mais compatível com as análises que faremos."
      ]
    },
    {
      "cell_type": "code",
      "execution_count": null,
      "id": "49277726",
      "metadata": {
        "id": "49277726"
      },
      "outputs": [],
      "source": [
        "df['mode'] = df['mode'].apply(lambda x: 1 if x == 'Major' or x == '1' or x == 1 else 0)"
      ]
    },
    {
      "cell_type": "markdown",
      "id": "a18dab0d",
      "metadata": {
        "id": "a18dab0d"
      },
      "source": [
        "## Implementação\n",
        "\n",
        "---"
      ]
    },
    {
      "cell_type": "code",
      "execution_count": null,
      "id": "d2f7335e",
      "metadata": {
        "id": "d2f7335e"
      },
      "outputs": [],
      "source": [
        "# Seleção de variáveis preditoras e variável alvo\n",
        "features = ['bpm', 'energy_%', 'valence_%', 'acousticness_%',\n",
        "            'instrumentalness_%', 'speechiness_%', 'liveness_%', 'mode']\n",
        "\n",
        "X = df[features]\n",
        "y = df['danceability_%']\n",
        "\n",
        "# Divisão em treino e teste\n",
        "X_train, X_test, y_train, y_test = train_test_split(X, y, test_size=0.2, random_state=42)"
      ]
    },
    {
      "cell_type": "markdown",
      "id": "dc146c95",
      "metadata": {
        "id": "dc146c95"
      },
      "source": [
        "### Regressão Linear"
      ]
    },
    {
      "cell_type": "code",
      "execution_count": null,
      "id": "688588a4",
      "metadata": {
        "id": "688588a4"
      },
      "outputs": [],
      "source": [
        "# Treinamento do modelo\n",
        "reg = LinearRegression()\n",
        "reg.fit(X_train, y_train)\n",
        "\n",
        "# Previsões\n",
        "y_pred_lr = reg.predict(X_test)"
      ]
    },
    {
      "cell_type": "markdown",
      "id": "i0-CXRXKINvh",
      "metadata": {
        "id": "i0-CXRXKINvh"
      },
      "source": [
        "### KNN"
      ]
    },
    {
      "cell_type": "markdown",
      "id": "612879da",
      "metadata": {
        "id": "612879da"
      },
      "source": [
        "#### Plotando MAE, RMSE e R² para diferentes valores de K\n",
        "\n",
        "Estratégia adotada para identificar o valor de K ideal no treinamento do modelo KNN."
      ]
    },
    {
      "cell_type": "code",
      "execution_count": null,
      "id": "b96b05bf",
      "metadata": {
        "id": "b96b05bf",
        "outputId": "65dce502-cb51-4237-c9b2-a34904b0c339"
      },
      "outputs": [
        {
          "data": {
            "image/png": "[encoded data removed]",
            "text/plain": [
              "<Figure size 1400x500 with 3 Axes>"
            ]
          },
          "metadata": {},
          "output_type": "display_data"
        }
      ],
      "source": [
        "# Faixa de valores de K\n",
        "k_values = range(1, 401, 10)  # Testa de 1 até 400 pulando de 10 em 10\n",
        "\n",
        "# Armazena as métricas\n",
        "mae_scores = []\n",
        "rmse_scores = []\n",
        "r2_scores = []\n",
        "\n",
        "for k in k_values:\n",
        "    model = KNeighborsRegressor(n_neighbors=k)\n",
        "    model.fit(X_train, y_train)\n",
        "    y_pred = model.predict(X_test)\n",
        "\n",
        "    mae_scores.append(mean_absolute_error(y_test, y_pred))\n",
        "    rmse_scores.append(np.sqrt(mean_squared_error(y_test, y_pred)))\n",
        "    r2_scores.append(r2_score(y_test, y_pred))"
      ]
    },
    {
      "cell_type": "markdown",
      "id": "b49270e7",
      "metadata": {
        "id": "b49270e7"
      },
      "source": [
        "A partir dos gráficos acima, podemos observar que um valor ideal para K está entre 10 e 30. É possível chegar a essa conclusão ao observar que MAE e RMSE possuem valores bem baixos nesse intervalo do gráfico, além de o valor R² ser alto."
      ]
    },
    {
      "cell_type": "code",
      "execution_count": null,
      "id": "sVCJCbyDIZG4",
      "metadata": {
        "id": "sVCJCbyDIZG4"
      },
      "outputs": [],
      "source": [
        "# Treinamento do modelo KNN\n",
        "knn = KNeighborsRegressor(n_neighbors=11, weights='uniform')\n",
        "knn.fit(X_train, y_train)\n",
        "\n",
        "# Previsões\n",
        "y_pred_knn = knn.predict(X_test)\n"
      ]
    },
    {
      "cell_type": "markdown",
      "id": "ea28a6ff",
      "metadata": {
        "id": "ea28a6ff"
      },
      "source": [
        "## Métricas\n",
        "\n",
        "---"
      ]
    },
    {
      "cell_type": "code",
      "execution_count": null,
      "id": "0cedc0a7",
      "metadata": {
        "colab": {
          "base_uri": "https://localhost:8080/"
        },
        "id": "0cedc0a7",
        "outputId": "11847581-0563-48ac-81b0-88aa2ee2648c"
      },
      "outputs": [
        {
          "name": "stdout",
          "output_type": "stream",
          "text": [
            "Regressão Linear:\n",
            "MAE: 10.59\n",
            "RMSE: 12.72\n",
            "R²: 0.22\n",
            "\n",
            "KNN:\n",
            "MAE: 10.02\n",
            "RMSE: 12.30\n",
            "R²: 0.27\n"
          ]
        }
      ],
      "source": [
        "# Regressão Linear\n",
        "mae_lr = mean_absolute_error(y_test, y_pred_lr)\n",
        "rmse_lr = np.sqrt(mean_squared_error(y_test, y_pred_lr))\n",
        "r2_lr = r2_score(y_test, y_pred_lr)\n",
        "\n",
        "print(\"Regressão Linear:\")\n",
        "print(f\"MAE: {mae_lr:.2f}\")\n",
        "print(f\"RMSE: {rmse_lr:.2f}\")\n",
        "print(f\"R²: {r2_lr:.2f}\")\n",
        "\n",
        "# KNN\n",
        "mae_knn = mean_absolute_error(y_test, y_pred_knn)\n",
        "rmse_knn = np.sqrt(mean_squared_error(y_test, y_pred_knn))\n",
        "r2_knn = r2_score(y_test, y_pred_knn)\n",
        "\n",
        "print(\"\\nKNN:\")\n",
        "print(f\"MAE: {mae_knn:.2f}\")\n",
        "print(f\"RMSE: {rmse_knn:.2f}\")\n",
        "print(f\"R²: {r2_knn:.2f}\")\n"
      ]
    },
    {
      "cell_type": "markdown",
      "id": "41c97c46",
      "metadata": {
        "id": "41c97c46"
      },
      "source": [
        "### Testando os modelos para prever a energia de uma música"
      ]
    },
    {
      "cell_type": "code",
      "execution_count": null,
      "id": "3f9cc152",
      "metadata": {
        "id": "3f9cc152"
      },
      "outputs": [],
      "source": [
        "# Seleção de variáveis preditoras e variável alvo\n",
        "features = ['bpm', 'danceability_%', 'valence_%', 'acousticness_%',\n",
        "            'instrumentalness_%', 'speechiness_%', 'liveness_%', 'mode']\n",
        "\n",
        "X = df[features]\n",
        "y = df['energy_%']\n",
        "\n",
        "# Divisão em treino e teste\n",
        "X_train, X_test, y_train, y_test = train_test_split(X, y, test_size=0.2, random_state=42)"
      ]
    },
    {
      "cell_type": "markdown",
      "id": "ede213b6",
      "metadata": {
        "id": "ede213b6"
      },
      "source": [
        "#### Regressão Linear"
      ]
    },
    {
      "cell_type": "code",
      "execution_count": null,
      "id": "cea60e66",
      "metadata": {
        "id": "cea60e66"
      },
      "outputs": [],
      "source": [
        "# Treinamento do modelo\n",
        "reg = LinearRegression()\n",
        "reg.fit(X_train, y_train)\n",
        "\n",
        "# Previsões\n",
        "y_pred_lr = reg.predict(X_test)"
      ]
    },
    {
      "cell_type": "markdown",
      "id": "aa108f7d",
      "metadata": {
        "id": "aa108f7d"
      },
      "source": [
        "#### KNN"
      ]
    },
    {
      "cell_type": "code",
      "execution_count": null,
      "id": "9b0097fd",
      "metadata": {
        "id": "9b0097fd"
      },
      "outputs": [],
      "source": [
        "# Treinamento do modelo KNN\n",
        "knn = KNeighborsRegressor(n_neighbors=11, weights='uniform')\n",
        "knn.fit(X_train, y_train)\n",
        "\n",
        "# Previsões\n",
        "y_pred_knn = knn.predict(X_test)"
      ]
    },
    {
      "cell_type": "markdown",
      "id": "ab3668b2",
      "metadata": {
        "id": "ab3668b2"
      },
      "source": [
        "#### Métricas"
      ]
    },
    {
      "cell_type": "code",
      "execution_count": null,
      "id": "df169ca6",
      "metadata": {
        "id": "df169ca6",
        "outputId": "7297a61a-2abc-4636-ef9d-e7888a5f20c1"
      },
      "outputs": [
        {
          "name": "stdout",
          "output_type": "stream",
          "text": [
            "Regressão Linear:\n",
            "MAE: 9.60\n",
            "RMSE: 11.76\n",
            "R²: 0.45\n",
            "\n",
            "KNN:\n",
            "MAE: 10.06\n",
            "RMSE: 12.63\n",
            "R²: 0.36\n"
          ]
        }
      ],
      "source": [
        "# Regressão Linear\n",
        "mae_lr = mean_absolute_error(y_test, y_pred_lr)\n",
        "rmse_lr = np.sqrt(mean_squared_error(y_test, y_pred_lr))\n",
        "r2_lr = r2_score(y_test, y_pred_lr)\n",
        "\n",
        "print(\"Regressão Linear:\")\n",
        "print(f\"MAE: {mae_lr:.2f}\")\n",
        "print(f\"RMSE: {rmse_lr:.2f}\")\n",
        "print(f\"R²: {r2_lr:.2f}\")\n",
        "\n",
        "# KNN\n",
        "mae_knn = mean_absolute_error(y_test, y_pred_knn)\n",
        "rmse_knn = np.sqrt(mean_squared_error(y_test, y_pred_knn))\n",
        "r2_knn = r2_score(y_test, y_pred_knn)\n",
        "\n",
        "print(\"\\nKNN:\")\n",
        "print(f\"MAE: {mae_knn:.2f}\")\n",
        "print(f\"RMSE: {rmse_knn:.2f}\")\n",
        "print(f\"R²: {r2_knn:.2f}\")"
      ]
    },
    {
      "cell_type": "markdown",
      "id": "ddae7c3f",
      "metadata": {
        "id": "ddae7c3f"
      },
      "source": [
        "## Comparação\n",
        "\n",
        "---"
      ]
    },
    {
      "cell_type": "markdown",
      "source": [
        "Os modelos de Regressão Linear e KNN Regressor foram avaliados com base nas métricas MAE, RMSE e R². Na tarefa de prever a dançabilidade, a Regressão Linear apresentou desempenho levemente superior. O modelo alcançou um MAE de 10.59, RMSE de 12.72 e R² de 0.22. O KNN Regressor obteve valores um pouco inferiores, com MAE de 10.71, RMSE de 13.21 e R² de 0.15. Esses resultados indicam que a Regressão Linear teve melhor desempenho na tarefa, ainda que a capacidade explicativa geral dos modelos tenha sido limitada.\n",
        "\n",
        "Na tarefa adicional de prever a energia da música (energy_%), os resultados mostraram ganhos consideráveis para ambos os modelos, especialmente para a Regressão Linear. Nesse caso, a Regressão Linear obteve um MAE de 9.60, um RMSE de 11.76 e um R² de 0.45, indicando uma melhora significativa na capacidade de explicação da variabilidade da variável alvo. O KNN também teve desempenho superior ao observado na tarefa anterior, com MAE de 10.06, RMSE de 12.63 e R² de 0.36, mas ainda ficou atrás da Regressão Linear.\n",
        "\n",
        "De forma geral, a Regressão Linear apresentou resultados mais estáveis e precisos nas duas tarefas. Já o KNN Regressor, mesmo após ajuste do parâmetro k, mostrou ser mais sensível à dispersão dos dados e obteve desempenho inferior. Isso reforça a ideia de que as relações entre os atributos sonoros e as variáveis alvo analisadas são em grande parte lineares, o que favorece o uso de modelos como a Regressão Linear."
      ],
      "metadata": {
        "id": "Q-Qysdz9gEYo"
      },
      "id": "Q-Qysdz9gEYo"
    },
    {
      "cell_type": "markdown",
      "id": "08bde05c",
      "metadata": {
        "id": "08bde05c"
      },
      "source": [
        "## Conclusão preliminar\n",
        "\n",
        "---"
      ]
    },
    {
      "cell_type": "markdown",
      "source": [
        "Com base nos resultados obtidos, a Regressão Linear apresentou desempenho superior ao KNN Regressor tanto na tarefa de prever a dançabilidade quanto na de prever a energia das músicas. Na predição da dançabilidade, a Regressão Linear alcançou um MAE de 10.59, um RMSE de 12.72 e um R² de 0.22, enquanto o KNN Regressor obteve um MAE de 10.71, RMSE de 13.21 e R² de 0.15. Na predição da variável energy_%, os resultados foram ainda mais favoráveis à Regressão Linear, com MAE de 9.60, RMSE de 11.76 e R² de 0.45, contra MAE de 10.06, RMSE de 12.63 e R² de 0.36 no modelo KNN.\n",
        "\n",
        "Esses números reforçam que, para o conjunto de dados utilizado, as relações entre características sonoras como BPM, valência, acústica e modo com variáveis como dançabilidade e energia são melhor modeladas por relações lineares globais. A Regressão Linear demonstrou ser mais eficaz, estável e precisa na captura dessas relações.\n",
        "\n",
        "Portanto, conclui-se que a Regressão Linear foi o modelo mais adequado entre os dois testados, não apenas por sua simplicidade, mas por seu desempenho superior em ambas as tarefas realizadas.\n"
      ],
      "metadata": {
        "id": "KHwzoYUWgOFP"
      },
      "id": "KHwzoYUWgOFP"
    }
  ],
  "metadata": {
    "colab": {
      "provenance": []
    },
    "kernelspec": {
      "display_name": "Python 3",
      "language": "python",
      "name": "python3"
    },
    "language_info": {
      "codemirror_mode": {
        "name": "ipython",
        "version": 3
      },
      "file_extension": ".py",
      "mimetype": "text/x-python",
      "name": "python",
      "nbconvert_exporter": "python",
      "pygments_lexer": "ipython3",
      "version": "3.12.6"
    }
  },
  "nbformat": 4,
  "nbformat_minor": 5
}