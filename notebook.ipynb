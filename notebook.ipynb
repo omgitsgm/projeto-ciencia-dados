{
 "cells": [
  {
   "cell_type": "markdown",
   "id": "43200bab",
   "metadata": {},
   "source": [
    "# Projeto Parcial Ciência de Dados (N1)\n",
    "\n",
    "| Nome | RA |\n",
    "| ---- | -- |\n",
    "| Enzo Ferroni | 10417100 |\n",
    "| Luiz Gabriel Profirio Mendes | 10382703 |\n",
    "\n"
   ]
  },
  {
   "cell_type": "markdown",
   "id": "b3f8fd72",
   "metadata": {},
   "source": [
    "## Escolha dos Modelos\n",
    "\n",
    "---\n",
    "\n",
    "* Regressão Linear  \n",
    "JUSTIFICATIVA\n",
    "\n",
    "* KNN  \n",
    "JUSTIFICATIVA"
   ]
  },
  {
   "cell_type": "markdown",
   "id": "a95dc384",
   "metadata": {},
   "source": [
    "## Pré-processamento básico\n",
    "\n",
    "---"
   ]
  },
  {
   "cell_type": "code",
   "execution_count": 14,
   "id": "35f48bcc",
   "metadata": {},
   "outputs": [],
   "source": [
    "# Importa bibliotecas\n",
    "import pandas as pd"
   ]
  },
  {
   "cell_type": "code",
   "execution_count": 15,
   "id": "727ade43",
   "metadata": {},
   "outputs": [],
   "source": [
    "# Lê CSV\n",
    "df = pd.read_csv(\"spotify-2023.csv\", encoding=\"latin1\")\n",
    "\n",
    "# Foi necessário usar o 'encoding' no bloco acima pois estava com o erro \n",
    "# UnicodeDecodeError: 'utf-8' codec can't decode bytes in position 7250-7251: invalid continuation byte\n"
   ]
  },
  {
   "cell_type": "code",
   "execution_count": 16,
   "id": "f52fee40",
   "metadata": {},
   "outputs": [
    {
     "name": "stdout",
     "output_type": "stream",
     "text": [
      "<class 'pandas.core.frame.DataFrame'>\n",
      "RangeIndex: 953 entries, 0 to 952\n",
      "Data columns (total 24 columns):\n",
      " #   Column                Non-Null Count  Dtype \n",
      "---  ------                --------------  ----- \n",
      " 0   track_name            953 non-null    object\n",
      " 1   artist(s)_name        953 non-null    object\n",
      " 2   artist_count          953 non-null    int64 \n",
      " 3   released_year         953 non-null    int64 \n",
      " 4   released_month        953 non-null    int64 \n",
      " 5   released_day          953 non-null    int64 \n",
      " 6   in_spotify_playlists  953 non-null    int64 \n",
      " 7   in_spotify_charts     953 non-null    int64 \n",
      " 8   streams               953 non-null    object\n",
      " 9   in_apple_playlists    953 non-null    int64 \n",
      " 10  in_apple_charts       953 non-null    int64 \n",
      " 11  in_deezer_playlists   953 non-null    object\n",
      " 12  in_deezer_charts      953 non-null    int64 \n",
      " 13  in_shazam_charts      903 non-null    object\n",
      " 14  bpm                   953 non-null    int64 \n",
      " 15  key                   858 non-null    object\n",
      " 16  mode                  953 non-null    object\n",
      " 17  danceability_%        953 non-null    int64 \n",
      " 18  valence_%             953 non-null    int64 \n",
      " 19  energy_%              953 non-null    int64 \n",
      " 20  acousticness_%        953 non-null    int64 \n",
      " 21  instrumentalness_%    953 non-null    int64 \n",
      " 22  liveness_%            953 non-null    int64 \n",
      " 23  speechiness_%         953 non-null    int64 \n",
      "dtypes: int64(17), object(7)\n",
      "memory usage: 178.8+ KB\n"
     ]
    }
   ],
   "source": [
    "# Exibe algumas informações básicas sobre o dataset.\n",
    "df.info()"
   ]
  },
  {
   "cell_type": "code",
   "execution_count": 17,
   "id": "351c73c6",
   "metadata": {},
   "outputs": [
    {
     "name": "stdout",
     "output_type": "stream",
     "text": [
      "Value counts para a coluna 'key':\n"
     ]
    },
    {
     "data": {
      "text/plain": [
       "key\n",
       "C#    120\n",
       "G      96\n",
       "G#     91\n",
       "F      89\n",
       "B      81\n",
       "D      81\n",
       "A      75\n",
       "F#     73\n",
       "E      62\n",
       "A#     57\n",
       "D#     33\n",
       "Name: count, dtype: int64"
      ]
     },
     "metadata": {},
     "output_type": "display_data"
    },
    {
     "name": "stdout",
     "output_type": "stream",
     "text": [
      "\n",
      "\n"
     ]
    }
   ],
   "source": [
    "# Verificando os valores presentes em key\n",
    "print(f\"Value counts para a coluna 'key':\")\n",
    "value_counts = df['key'].value_counts()\n",
    "display(value_counts)\n",
    "print(\"\\n\")"
   ]
  },
  {
   "cell_type": "code",
   "execution_count": 18,
   "id": "d79178f7",
   "metadata": {},
   "outputs": [
    {
     "name": "stdout",
     "output_type": "stream",
     "text": [
      "<class 'pandas.core.frame.DataFrame'>\n",
      "Index: 858 entries, 0 to 952\n",
      "Data columns (total 24 columns):\n",
      " #   Column                Non-Null Count  Dtype \n",
      "---  ------                --------------  ----- \n",
      " 0   track_name            858 non-null    object\n",
      " 1   artist(s)_name        858 non-null    object\n",
      " 2   artist_count          858 non-null    int64 \n",
      " 3   released_year         858 non-null    int64 \n",
      " 4   released_month        858 non-null    int64 \n",
      " 5   released_day          858 non-null    int64 \n",
      " 6   in_spotify_playlists  858 non-null    int64 \n",
      " 7   in_spotify_charts     858 non-null    int64 \n",
      " 8   streams               858 non-null    object\n",
      " 9   in_apple_playlists    858 non-null    int64 \n",
      " 10  in_apple_charts       858 non-null    int64 \n",
      " 11  in_deezer_playlists   858 non-null    object\n",
      " 12  in_deezer_charts      858 non-null    int64 \n",
      " 13  in_shazam_charts      817 non-null    object\n",
      " 14  bpm                   858 non-null    int64 \n",
      " 15  key                   858 non-null    object\n",
      " 16  mode                  858 non-null    object\n",
      " 17  danceability_%        858 non-null    int64 \n",
      " 18  valence_%             858 non-null    int64 \n",
      " 19  energy_%              858 non-null    int64 \n",
      " 20  acousticness_%        858 non-null    int64 \n",
      " 21  instrumentalness_%    858 non-null    int64 \n",
      " 22  liveness_%            858 non-null    int64 \n",
      " 23  speechiness_%         858 non-null    int64 \n",
      "dtypes: int64(17), object(7)\n",
      "memory usage: 167.6+ KB\n"
     ]
    }
   ],
   "source": [
    "# Remove linhas onde key é null\n",
    "df = df.dropna(subset=['key'])\n",
    "\n",
    "# Exibe algumas informações básicas sobre o dataset.\n",
    "df.info()"
   ]
  },
  {
   "cell_type": "code",
   "execution_count": 19,
   "id": "07e888e1",
   "metadata": {},
   "outputs": [
    {
     "name": "stdout",
     "output_type": "stream",
     "text": [
      "<class 'pandas.core.frame.DataFrame'>\n",
      "Index: 858 entries, 0 to 952\n",
      "Data columns (total 19 columns):\n",
      " #   Column                Non-Null Count  Dtype \n",
      "---  ------                --------------  ----- \n",
      " 0   track_name            858 non-null    object\n",
      " 1   artist(s)_name        858 non-null    object\n",
      " 2   artist_count          858 non-null    int64 \n",
      " 3   released_year         858 non-null    int64 \n",
      " 4   released_month        858 non-null    int64 \n",
      " 5   released_day          858 non-null    int64 \n",
      " 6   in_spotify_playlists  858 non-null    int64 \n",
      " 7   in_spotify_charts     858 non-null    int64 \n",
      " 8   streams               858 non-null    object\n",
      " 9   bpm                   858 non-null    int64 \n",
      " 10  key                   858 non-null    object\n",
      " 11  mode                  858 non-null    object\n",
      " 12  danceability_%        858 non-null    int64 \n",
      " 13  valence_%             858 non-null    int64 \n",
      " 14  energy_%              858 non-null    int64 \n",
      " 15  acousticness_%        858 non-null    int64 \n",
      " 16  instrumentalness_%    858 non-null    int64 \n",
      " 17  liveness_%            858 non-null    int64 \n",
      " 18  speechiness_%         858 non-null    int64 \n",
      "dtypes: int64(14), object(5)\n",
      "memory usage: 134.1+ KB\n"
     ]
    }
   ],
   "source": [
    "# Remove colunas de serviços que não serão cobertos em nossa análise.\n",
    "df = df.drop(columns=['in_apple_playlists', 'in_apple_charts', 'in_deezer_playlists', 'in_deezer_charts', 'in_shazam_charts'])\n",
    "\n",
    "# Exibe algumas informações básicas sobre o dataset.\n",
    "df.info()"
   ]
  },
  {
   "cell_type": "code",
   "execution_count": null,
   "id": "2e0a1547",
   "metadata": {},
   "outputs": [
    {
     "name": "stdout",
     "output_type": "stream",
     "text": [
      "<class 'pandas.core.frame.DataFrame'>\n",
      "Index: 857 entries, 0 to 952\n",
      "Data columns (total 19 columns):\n",
      " #   Column                Non-Null Count  Dtype \n",
      "---  ------                --------------  ----- \n",
      " 0   track_name            857 non-null    object\n",
      " 1   artist(s)_name        857 non-null    object\n",
      " 2   artist_count          857 non-null    int64 \n",
      " 3   released_year         857 non-null    int64 \n",
      " 4   released_month        857 non-null    int64 \n",
      " 5   released_day          857 non-null    int64 \n",
      " 6   in_spotify_playlists  857 non-null    int64 \n",
      " 7   in_spotify_charts     857 non-null    int64 \n",
      " 8   streams               857 non-null    object\n",
      " 9   bpm                   857 non-null    int64 \n",
      " 10  key                   857 non-null    object\n",
      " 11  mode                  857 non-null    object\n",
      " 12  danceability_%        857 non-null    int64 \n",
      " 13  valence_%             857 non-null    int64 \n",
      " 14  energy_%              857 non-null    int64 \n",
      " 15  acousticness_%        857 non-null    int64 \n",
      " 16  instrumentalness_%    857 non-null    int64 \n",
      " 17  liveness_%            857 non-null    int64 \n",
      " 18  speechiness_%         857 non-null    int64 \n",
      "dtypes: int64(14), object(5)\n",
      "memory usage: 133.9+ KB\n"
     ]
    }
   ],
   "source": [
    "# Remove linha da música Love Grows (Where My Rosemary Goes), pois há inconsistência nos dados.\n",
    "index = df[df['track_name'] == \"Love Grows (Where My Rosemary Goes)\"].index\n",
    "df = df.drop(index)\n",
    "\n",
    "df.info()\n"
   ]
  },
  {
   "cell_type": "code",
   "execution_count": null,
   "id": "dc3646dd",
   "metadata": {},
   "outputs": [
    {
     "name": "stdout",
     "output_type": "stream",
     "text": [
      "<class 'pandas.core.frame.DataFrame'>\n",
      "Index: 857 entries, 0 to 952\n",
      "Data columns (total 19 columns):\n",
      " #   Column                Non-Null Count  Dtype \n",
      "---  ------                --------------  ----- \n",
      " 0   track_name            857 non-null    object\n",
      " 1   artist(s)_name        857 non-null    object\n",
      " 2   artist_count          857 non-null    int64 \n",
      " 3   released_year         857 non-null    int64 \n",
      " 4   released_month        857 non-null    int64 \n",
      " 5   released_day          857 non-null    int64 \n",
      " 6   in_spotify_playlists  857 non-null    int64 \n",
      " 7   in_spotify_charts     857 non-null    int64 \n",
      " 8   streams               857 non-null    int64 \n",
      " 9   bpm                   857 non-null    int64 \n",
      " 10  key                   857 non-null    object\n",
      " 11  mode                  857 non-null    object\n",
      " 12  danceability_%        857 non-null    int64 \n",
      " 13  valence_%             857 non-null    int64 \n",
      " 14  energy_%              857 non-null    int64 \n",
      " 15  acousticness_%        857 non-null    int64 \n",
      " 16  instrumentalness_%    857 non-null    int64 \n",
      " 17  liveness_%            857 non-null    int64 \n",
      " 18  speechiness_%         857 non-null    int64 \n",
      "dtypes: int64(15), object(4)\n",
      "memory usage: 133.9+ KB\n"
     ]
    }
   ],
   "source": [
    "# Converte streams para numérico\n",
    "df['streams'] = pd.to_numeric(df['streams'])\n",
    "\n",
    "df.info()"
   ]
  },
  {
   "cell_type": "markdown",
   "id": "a18dab0d",
   "metadata": {},
   "source": [
    "## Implementação\n",
    "\n",
    "---"
   ]
  },
  {
   "cell_type": "markdown",
   "id": "dc146c95",
   "metadata": {},
   "source": [
    "### Regressão Linear"
   ]
  },
  {
   "cell_type": "code",
   "execution_count": null,
   "id": "688588a4",
   "metadata": {},
   "outputs": [],
   "source": []
  },
  {
   "cell_type": "markdown",
   "id": "ea28a6ff",
   "metadata": {},
   "source": [
    "## Métricas\n",
    "\n",
    "---"
   ]
  },
  {
   "cell_type": "code",
   "execution_count": null,
   "id": "0cedc0a7",
   "metadata": {},
   "outputs": [],
   "source": []
  },
  {
   "cell_type": "markdown",
   "id": "ddae7c3f",
   "metadata": {},
   "source": [
    "## Comparação\n",
    "\n",
    "---"
   ]
  },
  {
   "cell_type": "code",
   "execution_count": null,
   "id": "0a21005d",
   "metadata": {},
   "outputs": [],
   "source": []
  },
  {
   "cell_type": "markdown",
   "id": "08bde05c",
   "metadata": {},
   "source": [
    "## Conclusão preliminar\n",
    "\n",
    "---"
   ]
  },
  {
   "cell_type": "code",
   "execution_count": null,
   "id": "44c08378",
   "metadata": {},
   "outputs": [],
   "source": []
  }
 ],
 "metadata": {
  "kernelspec": {
   "display_name": "Python 3",
   "language": "python",
   "name": "python3"
  },
  "language_info": {
   "codemirror_mode": {
    "name": "ipython",
    "version": 3
   },
   "file_extension": ".py",
   "mimetype": "text/x-python",
   "name": "python",
   "nbconvert_exporter": "python",
   "pygments_lexer": "ipython3",
   "version": "3.12.6"
  }
 },
 "nbformat": 4,
 "nbformat_minor": 5
}
