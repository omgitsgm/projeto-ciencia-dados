{
 "cells": [
  {
   "cell_type": "markdown",
   "id": "43200bab",
   "metadata": {},
   "source": [
    "# Projeto Parcial Ciência de Dados (N1)\n",
    "\n",
    "| Nome | RA |\n",
    "| ---- | -- |\n",
    "| Enzo Ferroni | 10417100 |\n",
    "| Luiz Gabriel Profirio Mendes | 10382703 |\n",
    "\n"
   ]
  }
 ],
 "metadata": {
  "language_info": {
   "name": "python"
  }
 },
 "nbformat": 4,
 "nbformat_minor": 5
}
