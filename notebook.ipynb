{
  "cells": [
    {
      "cell_type": "markdown",
      "id": "43200bab",
      "metadata": {
        "id": "43200bab"
      },
      "source": [
        "# Projeto Parcial Ciência de Dados (N1)\n",
        "\n",
        "| Nome | RA |\n",
        "| ---- | -- |\n",
        "| Enzo Ferroni | 10417100 |\n",
        "| Luiz Gabriel Profirio Mendes | 10382703 |\n",
        "\n"
      ]
    },
    {
      "cell_type": "markdown",
      "id": "b3f8fd72",
      "metadata": {
        "id": "b3f8fd72"
      },
      "source": [
        "## Escolha dos Modelos\n",
        "\n",
        "---\n",
        "\n",
        "* Regressão Linear  \n",
        "A Regressão Linear foi selecionada por ser um modelo clássico e interpretável, capaz de indicar de forma direta a influência de cada característica sonora no sucesso da música. Essa escolha permite observar relações lineares entre variáveis como dançabilidade, energia ou valência e o desempenho da faixa em termos de streams. Além disso, o modelo é eficiente computacionalmente e serve como uma boa linha de base para comparação\n",
        "\n",
        "* KNN  \n",
        "Já o K-Nearest Neighbors Regressor foi escolhido por ser um modelo não paramétrico, que se baseia na proximidade entre exemplos para fazer previsões. Em vez de assumir uma relação matemática específica entre os atributos e o número de streams, o KNN prediz o valor com base na média dos exemplos mais similares, capturando possíveis padrões não lineares presentes nos dados. Essa abordagem é especialmente útil quando há agrupamentos de faixas com características sonoras semelhantes que apresentam desempenhos parecidos em popularidade. Ao utilizar modelos com princípios diferentes, é possível avaliar não apenas o desempenho preditivo de cada um, mas também se há padrões sonoros recorrentes que expliquem o sucesso das faixas analisadas."
      ]
    },
    {
      "cell_type": "markdown",
      "id": "a95dc384",
      "metadata": {
        "id": "a95dc384"
      },
      "source": [
        "## Pré-processamento básico\n",
        "\n",
        "---"
      ]
    },
    {
      "cell_type": "code",
      "execution_count": 2,
      "id": "35f48bcc",
      "metadata": {
        "id": "35f48bcc"
      },
      "outputs": [],
      "source": [
        "# Importa bibliotecas\n",
        "import pandas as pd"
      ]
    },
    {
      "cell_type": "code",
      "execution_count": null,
      "id": "727ade43",
      "metadata": {
        "id": "727ade43"
      },
      "outputs": [],
      "source": [
        "# Lê CSV\n",
        "df = pd.read_csv(\"spotify-2023.csv\", encoding=\"latin1\")\n",
        "\n",
        "# Foi necessário usar o 'encoding' no bloco acima pois estava com o erro\n",
        "# UnicodeDecodeError: 'utf-8' codec can't decode bytes in position 7250-7251: invalid continuation byte\n"
      ]
    },
    {
      "cell_type": "code",
      "execution_count": 5,
      "id": "f52fee40",
      "metadata": {
        "colab": {
          "base_uri": "https://localhost:8080/"
        },
        "id": "f52fee40",
        "outputId": "a2981c81-f511-485c-d8c9-8be33cb8273b"
      },
      "outputs": [
        {
          "name": "stdout",
          "output_type": "stream",
          "text": [
            "<class 'pandas.core.frame.DataFrame'>\n",
            "RangeIndex: 953 entries, 0 to 952\n",
            "Data columns (total 24 columns):\n",
            " #   Column                Non-Null Count  Dtype \n",
            "---  ------                --------------  ----- \n",
            " 0   track_name            953 non-null    object\n",
            " 1   artist(s)_name        953 non-null    object\n",
            " 2   artist_count          953 non-null    int64 \n",
            " 3   released_year         953 non-null    int64 \n",
            " 4   released_month        953 non-null    int64 \n",
            " 5   released_day          953 non-null    int64 \n",
            " 6   in_spotify_playlists  953 non-null    int64 \n",
            " 7   in_spotify_charts     953 non-null    int64 \n",
            " 8   streams               953 non-null    object\n",
            " 9   in_apple_playlists    953 non-null    int64 \n",
            " 10  in_apple_charts       953 non-null    int64 \n",
            " 11  in_deezer_playlists   953 non-null    object\n",
            " 12  in_deezer_charts      953 non-null    int64 \n",
            " 13  in_shazam_charts      903 non-null    object\n",
            " 14  bpm                   953 non-null    int64 \n",
            " 15  key                   858 non-null    object\n",
            " 16  mode                  953 non-null    object\n",
            " 17  danceability_%        953 non-null    int64 \n",
            " 18  valence_%             953 non-null    int64 \n",
            " 19  energy_%              953 non-null    int64 \n",
            " 20  acousticness_%        953 non-null    int64 \n",
            " 21  instrumentalness_%    953 non-null    int64 \n",
            " 22  liveness_%            953 non-null    int64 \n",
            " 23  speechiness_%         953 non-null    int64 \n",
            "dtypes: int64(17), object(7)\n",
            "memory usage: 178.8+ KB\n"
          ]
        }
      ],
      "source": [
        "# Exibe algumas informações básicas sobre o dataset.\n",
        "df.info()"
      ]
    },
    {
      "cell_type": "code",
      "execution_count": 6,
      "id": "351c73c6",
      "metadata": {
        "colab": {
          "base_uri": "https://localhost:8080/",
          "height": 512
        },
        "id": "351c73c6",
        "outputId": "e2ad422d-cae9-4ca6-b65e-de111048bf37"
      },
      "outputs": [
        {
          "name": "stdout",
          "output_type": "stream",
          "text": [
            "Value counts para a coluna 'key':\n"
          ]
        },
        {
          "data": {
            "text/html": [
              "<div>\n",
              "<style scoped>\n",
              "    .dataframe tbody tr th:only-of-type {\n",
              "        vertical-align: middle;\n",
              "    }\n",
              "\n",
              "    .dataframe tbody tr th {\n",
              "        vertical-align: top;\n",
              "    }\n",
              "\n",
              "    .dataframe thead th {\n",
              "        text-align: right;\n",
              "    }\n",
              "</style>\n",
              "<table border=\"1\" class=\"dataframe\">\n",
              "  <thead>\n",
              "    <tr style=\"text-align: right;\">\n",
              "      <th></th>\n",
              "      <th>count</th>\n",
              "    </tr>\n",
              "    <tr>\n",
              "      <th>key</th>\n",
              "      <th></th>\n",
              "    </tr>\n",
              "  </thead>\n",
              "  <tbody>\n",
              "    <tr>\n",
              "      <th>C#</th>\n",
              "      <td>120</td>\n",
              "    </tr>\n",
              "    <tr>\n",
              "      <th>G</th>\n",
              "      <td>96</td>\n",
              "    </tr>\n",
              "    <tr>\n",
              "      <th>G#</th>\n",
              "      <td>91</td>\n",
              "    </tr>\n",
              "    <tr>\n",
              "      <th>F</th>\n",
              "      <td>89</td>\n",
              "    </tr>\n",
              "    <tr>\n",
              "      <th>B</th>\n",
              "      <td>81</td>\n",
              "    </tr>\n",
              "    <tr>\n",
              "      <th>D</th>\n",
              "      <td>81</td>\n",
              "    </tr>\n",
              "    <tr>\n",
              "      <th>A</th>\n",
              "      <td>75</td>\n",
              "    </tr>\n",
              "    <tr>\n",
              "      <th>F#</th>\n",
              "      <td>73</td>\n",
              "    </tr>\n",
              "    <tr>\n",
              "      <th>E</th>\n",
              "      <td>62</td>\n",
              "    </tr>\n",
              "    <tr>\n",
              "      <th>A#</th>\n",
              "      <td>57</td>\n",
              "    </tr>\n",
              "    <tr>\n",
              "      <th>D#</th>\n",
              "      <td>33</td>\n",
              "    </tr>\n",
              "  </tbody>\n",
              "</table>\n",
              "</div><br><label><b>dtype:</b> int64</label>"
            ],
            "text/plain": [
              "key\n",
              "C#    120\n",
              "G      96\n",
              "G#     91\n",
              "F      89\n",
              "B      81\n",
              "D      81\n",
              "A      75\n",
              "F#     73\n",
              "E      62\n",
              "A#     57\n",
              "D#     33\n",
              "Name: count, dtype: int64"
            ]
          },
          "metadata": {},
          "output_type": "display_data"
        },
        {
          "name": "stdout",
          "output_type": "stream",
          "text": [
            "\n",
            "\n"
          ]
        }
      ],
      "source": [
        "# Verificando os valores presentes em key\n",
        "print(f\"Value counts para a coluna 'key':\")\n",
        "value_counts = df['key'].value_counts()\n",
        "display(value_counts)\n",
        "print(\"\\n\")"
      ]
    },
    {
      "cell_type": "code",
      "execution_count": 7,
      "id": "d79178f7",
      "metadata": {
        "colab": {
          "base_uri": "https://localhost:8080/"
        },
        "id": "d79178f7",
        "outputId": "ef0c4ed2-6e84-4eca-a250-9e34277d310e"
      },
      "outputs": [
        {
          "name": "stdout",
          "output_type": "stream",
          "text": [
            "<class 'pandas.core.frame.DataFrame'>\n",
            "Index: 858 entries, 0 to 952\n",
            "Data columns (total 24 columns):\n",
            " #   Column                Non-Null Count  Dtype \n",
            "---  ------                --------------  ----- \n",
            " 0   track_name            858 non-null    object\n",
            " 1   artist(s)_name        858 non-null    object\n",
            " 2   artist_count          858 non-null    int64 \n",
            " 3   released_year         858 non-null    int64 \n",
            " 4   released_month        858 non-null    int64 \n",
            " 5   released_day          858 non-null    int64 \n",
            " 6   in_spotify_playlists  858 non-null    int64 \n",
            " 7   in_spotify_charts     858 non-null    int64 \n",
            " 8   streams               858 non-null    object\n",
            " 9   in_apple_playlists    858 non-null    int64 \n",
            " 10  in_apple_charts       858 non-null    int64 \n",
            " 11  in_deezer_playlists   858 non-null    object\n",
            " 12  in_deezer_charts      858 non-null    int64 \n",
            " 13  in_shazam_charts      817 non-null    object\n",
            " 14  bpm                   858 non-null    int64 \n",
            " 15  key                   858 non-null    object\n",
            " 16  mode                  858 non-null    object\n",
            " 17  danceability_%        858 non-null    int64 \n",
            " 18  valence_%             858 non-null    int64 \n",
            " 19  energy_%              858 non-null    int64 \n",
            " 20  acousticness_%        858 non-null    int64 \n",
            " 21  instrumentalness_%    858 non-null    int64 \n",
            " 22  liveness_%            858 non-null    int64 \n",
            " 23  speechiness_%         858 non-null    int64 \n",
            "dtypes: int64(17), object(7)\n",
            "memory usage: 167.6+ KB\n"
          ]
        }
      ],
      "source": [
        "# Remove linhas onde key é null\n",
        "df = df.dropna(subset=['key'])\n",
        "\n",
        "# Exibe algumas informações básicas sobre o dataset.\n",
        "df.info()"
      ]
    },
    {
      "cell_type": "code",
      "execution_count": 8,
      "id": "07e888e1",
      "metadata": {
        "colab": {
          "base_uri": "https://localhost:8080/"
        },
        "id": "07e888e1",
        "outputId": "5c17f448-1b4a-4464-9dab-073bc135b796"
      },
      "outputs": [
        {
          "name": "stdout",
          "output_type": "stream",
          "text": [
            "<class 'pandas.core.frame.DataFrame'>\n",
            "Index: 858 entries, 0 to 952\n",
            "Data columns (total 19 columns):\n",
            " #   Column                Non-Null Count  Dtype \n",
            "---  ------                --------------  ----- \n",
            " 0   track_name            858 non-null    object\n",
            " 1   artist(s)_name        858 non-null    object\n",
            " 2   artist_count          858 non-null    int64 \n",
            " 3   released_year         858 non-null    int64 \n",
            " 4   released_month        858 non-null    int64 \n",
            " 5   released_day          858 non-null    int64 \n",
            " 6   in_spotify_playlists  858 non-null    int64 \n",
            " 7   in_spotify_charts     858 non-null    int64 \n",
            " 8   streams               858 non-null    object\n",
            " 9   bpm                   858 non-null    int64 \n",
            " 10  key                   858 non-null    object\n",
            " 11  mode                  858 non-null    object\n",
            " 12  danceability_%        858 non-null    int64 \n",
            " 13  valence_%             858 non-null    int64 \n",
            " 14  energy_%              858 non-null    int64 \n",
            " 15  acousticness_%        858 non-null    int64 \n",
            " 16  instrumentalness_%    858 non-null    int64 \n",
            " 17  liveness_%            858 non-null    int64 \n",
            " 18  speechiness_%         858 non-null    int64 \n",
            "dtypes: int64(14), object(5)\n",
            "memory usage: 134.1+ KB\n"
          ]
        }
      ],
      "source": [
        "# Remove colunas de serviços que não serão cobertos em nossa análise.\n",
        "df = df.drop(columns=['in_apple_playlists', 'in_apple_charts', 'in_deezer_playlists', 'in_deezer_charts', 'in_shazam_charts'])\n",
        "\n",
        "# Exibe algumas informações básicas sobre o dataset.\n",
        "df.info()"
      ]
    },
    {
      "cell_type": "code",
      "execution_count": 9,
      "id": "2e0a1547",
      "metadata": {
        "colab": {
          "base_uri": "https://localhost:8080/"
        },
        "id": "2e0a1547",
        "outputId": "c52cf72a-43dd-45f4-cfce-0a0795d05f85"
      },
      "outputs": [
        {
          "name": "stdout",
          "output_type": "stream",
          "text": [
            "<class 'pandas.core.frame.DataFrame'>\n",
            "Index: 857 entries, 0 to 952\n",
            "Data columns (total 19 columns):\n",
            " #   Column                Non-Null Count  Dtype \n",
            "---  ------                --------------  ----- \n",
            " 0   track_name            857 non-null    object\n",
            " 1   artist(s)_name        857 non-null    object\n",
            " 2   artist_count          857 non-null    int64 \n",
            " 3   released_year         857 non-null    int64 \n",
            " 4   released_month        857 non-null    int64 \n",
            " 5   released_day          857 non-null    int64 \n",
            " 6   in_spotify_playlists  857 non-null    int64 \n",
            " 7   in_spotify_charts     857 non-null    int64 \n",
            " 8   streams               857 non-null    object\n",
            " 9   bpm                   857 non-null    int64 \n",
            " 10  key                   857 non-null    object\n",
            " 11  mode                  857 non-null    object\n",
            " 12  danceability_%        857 non-null    int64 \n",
            " 13  valence_%             857 non-null    int64 \n",
            " 14  energy_%              857 non-null    int64 \n",
            " 15  acousticness_%        857 non-null    int64 \n",
            " 16  instrumentalness_%    857 non-null    int64 \n",
            " 17  liveness_%            857 non-null    int64 \n",
            " 18  speechiness_%         857 non-null    int64 \n",
            "dtypes: int64(14), object(5)\n",
            "memory usage: 133.9+ KB\n"
          ]
        }
      ],
      "source": [
        "# Remove linha da música Love Grows (Where My Rosemary Goes), pois há inconsistência nos dados.\n",
        "index = df[df['track_name'] == \"Love Grows (Where My Rosemary Goes)\"].index\n",
        "df = df.drop(index)\n",
        "\n",
        "df.info()\n"
      ]
    },
    {
      "cell_type": "code",
      "execution_count": 10,
      "id": "dc3646dd",
      "metadata": {
        "colab": {
          "base_uri": "https://localhost:8080/"
        },
        "id": "dc3646dd",
        "outputId": "f161320b-d545-4686-ad87-922f454d77ee"
      },
      "outputs": [
        {
          "name": "stdout",
          "output_type": "stream",
          "text": [
            "<class 'pandas.core.frame.DataFrame'>\n",
            "Index: 857 entries, 0 to 952\n",
            "Data columns (total 19 columns):\n",
            " #   Column                Non-Null Count  Dtype \n",
            "---  ------                --------------  ----- \n",
            " 0   track_name            857 non-null    object\n",
            " 1   artist(s)_name        857 non-null    object\n",
            " 2   artist_count          857 non-null    int64 \n",
            " 3   released_year         857 non-null    int64 \n",
            " 4   released_month        857 non-null    int64 \n",
            " 5   released_day          857 non-null    int64 \n",
            " 6   in_spotify_playlists  857 non-null    int64 \n",
            " 7   in_spotify_charts     857 non-null    int64 \n",
            " 8   streams               857 non-null    int64 \n",
            " 9   bpm                   857 non-null    int64 \n",
            " 10  key                   857 non-null    object\n",
            " 11  mode                  857 non-null    object\n",
            " 12  danceability_%        857 non-null    int64 \n",
            " 13  valence_%             857 non-null    int64 \n",
            " 14  energy_%              857 non-null    int64 \n",
            " 15  acousticness_%        857 non-null    int64 \n",
            " 16  instrumentalness_%    857 non-null    int64 \n",
            " 17  liveness_%            857 non-null    int64 \n",
            " 18  speechiness_%         857 non-null    int64 \n",
            "dtypes: int64(15), object(4)\n",
            "memory usage: 133.9+ KB\n"
          ]
        }
      ],
      "source": [
        "# Converte streams para numérico\n",
        "df['streams'] = pd.to_numeric(df['streams'])\n",
        "\n",
        "df.info()"
      ]
    },
    {
      "cell_type": "markdown",
      "id": "a18dab0d",
      "metadata": {
        "id": "a18dab0d"
      },
      "source": [
        "## Implementação\n",
        "\n",
        "---"
      ]
    },
    {
      "cell_type": "markdown",
      "id": "dc146c95",
      "metadata": {
        "id": "dc146c95"
      },
      "source": [
        "### Regressão Linear"
      ]
    },
    {
      "cell_type": "code",
      "execution_count": 11,
      "id": "688588a4",
      "metadata": {
        "id": "688588a4"
      },
      "outputs": [],
      "source": [
        "from sklearn.linear_model import LinearRegression\n",
        "from sklearn.model_selection import train_test_split\n",
        "from sklearn.metrics import mean_absolute_error, mean_squared_error, r2_score\n",
        "\n",
        "# Seleção de variáveis\n",
        "features = ['bpm', 'danceability_%', 'valence_%', 'energy_%', 'acousticness_%',\n",
        "            'instrumentalness_%', 'liveness_%', 'speechiness_%']\n",
        "X = df[features]\n",
        "y = df['streams']\n",
        "\n",
        "# Separação entre treino e teste\n",
        "X_train, X_test, y_train, y_test = train_test_split(X, y, test_size=0.2, random_state=42)\n",
        "\n",
        "# Modelo\n",
        "reg = LinearRegression()\n",
        "reg.fit(X_train, y_train)\n",
        "\n",
        "# Previsão\n",
        "y_pred = reg.predict(X_test)"
      ]
    },
    {
      "cell_type": "markdown",
      "id": "i0-CXRXKINvh",
      "metadata": {
        "id": "i0-CXRXKINvh"
      },
      "source": [
        "### KNN"
      ]
    },
    {
      "cell_type": "code",
      "execution_count": 12,
      "id": "sVCJCbyDIZG4",
      "metadata": {
        "id": "sVCJCbyDIZG4"
      },
      "outputs": [],
      "source": [
        "from sklearn.neighbors import KNeighborsRegressor\n",
        "\n",
        "# Modelo\n",
        "knn = KNeighborsRegressor(n_neighbors=5, weights='uniform')\n",
        "knn.fit(X_train, y_train)\n",
        "\n",
        "# Previsão\n",
        "y_pred_knn = knn.predict(X_test)"
      ]
    },
    {
      "cell_type": "markdown",
      "id": "ea28a6ff",
      "metadata": {
        "id": "ea28a6ff"
      },
      "source": [
        "## Métricas\n",
        "\n",
        "---"
      ]
    },
    {
      "cell_type": "code",
      "execution_count": 13,
      "id": "0cedc0a7",
      "metadata": {
        "colab": {
          "base_uri": "https://localhost:8080/"
        },
        "id": "0cedc0a7",
        "outputId": "11847581-0563-48ac-81b0-88aa2ee2648c"
      },
      "outputs": [
        {
          "name": "stdout",
          "output_type": "stream",
          "text": [
            "Regressão Linear:\n",
            "MAE: 467433722.69\n",
            "RMSE: 676784872.64\n",
            "R²: -0.00\n",
            "\n",
            "KNN Regressor:\n",
            "MAE: 506617278.06\n",
            "RMSE: 736012757.92\n",
            "R²: -0.19\n"
          ]
        }
      ],
      "source": [
        "from sklearn.metrics import mean_absolute_error, mean_squared_error, r2_score\n",
        "import numpy as np\n",
        "\n",
        "# Avaliação - Regressão Linear\n",
        "mae_lr = mean_absolute_error(y_test, y_pred)\n",
        "rmse_lr = np.sqrt(mean_squared_error(y_test, y_pred))\n",
        "r2_lr = r2_score(y_test, y_pred)\n",
        "\n",
        "print(\"Regressão Linear:\")\n",
        "print(f\"MAE: {mae_lr:.2f}\")\n",
        "print(f\"RMSE: {rmse_lr:.2f}\")\n",
        "print(f\"R²: {r2_lr:.2f}\")\n",
        "\n",
        "# Avaliação - KNN Regressor\n",
        "mae_knn = mean_absolute_error(y_test, y_pred_knn)\n",
        "rmse_knn = np.sqrt(mean_squared_error(y_test, y_pred_knn))\n",
        "r2_knn = r2_score(y_test, y_pred_knn)\n",
        "\n",
        "print(\"\\nKNN Regressor:\")\n",
        "print(f\"MAE: {mae_knn:.2f}\")\n",
        "print(f\"RMSE: {rmse_knn:.2f}\")\n",
        "print(f\"R²: {r2_knn:.2f}\")\n"
      ]
    },
    {
      "cell_type": "markdown",
      "id": "ddae7c3f",
      "metadata": {
        "id": "ddae7c3f"
      },
      "source": [
        "## Comparação\n",
        "\n",
        "---"
      ]
    },
    {
      "cell_type": "markdown",
      "id": "08bde05c",
      "metadata": {
        "id": "08bde05c"
      },
      "source": [
        "## Conclusão preliminar\n",
        "\n",
        "---"
      ]
    },
    {
      "cell_type": "code",
      "execution_count": null,
      "id": "44c08378",
      "metadata": {
        "id": "44c08378"
      },
      "outputs": [],
      "source": []
    }
  ],
  "metadata": {
    "colab": {
      "provenance": []
    },
    "kernelspec": {
      "display_name": "Python 3",
      "language": "python",
      "name": "python3"
    },
    "language_info": {
      "codemirror_mode": {
        "name": "ipython",
        "version": 3
      },
      "file_extension": ".py",
      "mimetype": "text/x-python",
      "name": "python",
      "nbconvert_exporter": "python",
      "pygments_lexer": "ipython3",
      "version": "3.12.6"
    }
  },
  "nbformat": 4,
  "nbformat_minor": 5
}
