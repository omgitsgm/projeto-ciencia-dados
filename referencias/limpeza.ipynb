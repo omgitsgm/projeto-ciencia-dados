{
  "cells": [
    {
      "cell_type": "markdown",
      "metadata": {
        "colab_type": "text",
        "id": "view-in-github"
      },
      "source": [
        "<a href=\"https://colab.research.google.com/github/lucascerfig/fci-cienciadedados/blob/main/notebooks/aula3_24_02.ipynb\" target=\"_parent\"><img src=\"https://colab.research.google.com/assets/colab-badge.svg\" alt=\"Open In Colab\"/></a>"
      ]
    },
    {
      "cell_type": "markdown",
      "metadata": {
        "id": "YpdW6eykEtQ1"
      },
      "source": [
        "# Aula 3 - Limpeza e Preparação de Dados"
      ]
    },
    {
      "cell_type": "markdown",
      "metadata": {},
      "source": [
        "**Nome**: Luiz Gabriel Profirio Mendes\n",
        "**RA**: 10382703"
      ]
    },
    {
      "cell_type": "markdown",
      "metadata": {
        "id": "GVw03CW0EtQ4"
      },
      "source": [
        "#### Instalação das Bibliotecas"
      ]
    },
    {
      "cell_type": "code",
      "execution_count": 58,
      "metadata": {
        "id": "LnQXizltMzsv"
      },
      "outputs": [],
      "source": [
        "import pandas as pd\n",
        "import matplotlib.pyplot as plt\n",
        "import numpy as np"
      ]
    },
    {
      "cell_type": "markdown",
      "metadata": {
        "id": "9gt6FzwRNCeM"
      },
      "source": [
        "Carregando o dataset do repositório no GitHub"
      ]
    },
    {
      "cell_type": "code",
      "execution_count": 59,
      "metadata": {
        "id": "FVwne8YNLwuA"
      },
      "outputs": [],
      "source": [
        "# URL do arquivo CSV no GitHub\n",
        "url = 'https://raw.githubusercontent.com/lucascerfig/fci-cienciadedados/main/datasets/aula3_vendas_kbelo.csv'\n",
        "\n",
        "# Carregar o dataset para um dataframe\n",
        "df = pd.read_csv(url)"
      ]
    },
    {
      "cell_type": "markdown",
      "metadata": {
        "id": "gdlGEyPGM5Fa"
      },
      "source": [
        "Visualizando as primeiras linhas do dataframe"
      ]
    },
    {
      "cell_type": "code",
      "execution_count": 60,
      "metadata": {
        "colab": {
          "base_uri": "https://localhost:8080/",
          "height": 206
        },
        "id": "pKgxsBvdMtzt",
        "outputId": "41e26aba-f6c6-43d4-dac5-8ab2ef69d99e"
      },
      "outputs": [
        {
          "data": {
            "text/html": [
              "<div>\n",
              "<style scoped>\n",
              "    .dataframe tbody tr th:only-of-type {\n",
              "        vertical-align: middle;\n",
              "    }\n",
              "\n",
              "    .dataframe tbody tr th {\n",
              "        vertical-align: top;\n",
              "    }\n",
              "\n",
              "    .dataframe thead th {\n",
              "        text-align: right;\n",
              "    }\n",
              "</style>\n",
              "<table border=\"1\" class=\"dataframe\">\n",
              "  <thead>\n",
              "    <tr style=\"text-align: right;\">\n",
              "      <th></th>\n",
              "      <th>ID da Transacao</th>\n",
              "      <th>Item</th>\n",
              "      <th>Quantidade</th>\n",
              "      <th>Valor Unitario</th>\n",
              "      <th>Total do Pedido</th>\n",
              "      <th>Forma de Pagamento</th>\n",
              "      <th>Local</th>\n",
              "      <th>Data da Transacao</th>\n",
              "    </tr>\n",
              "  </thead>\n",
              "  <tbody>\n",
              "    <tr>\n",
              "      <th>0</th>\n",
              "      <td>TXN_1961373</td>\n",
              "      <td>PastelDoce</td>\n",
              "      <td>2</td>\n",
              "      <td>12.0</td>\n",
              "      <td>24.0</td>\n",
              "      <td>Credito</td>\n",
              "      <td>Viagem</td>\n",
              "      <td>2023-09-08</td>\n",
              "    </tr>\n",
              "    <tr>\n",
              "      <th>1</th>\n",
              "      <td>TXN_4977031</td>\n",
              "      <td>PastelSalgado</td>\n",
              "      <td>4</td>\n",
              "      <td>13.5</td>\n",
              "      <td>54.0</td>\n",
              "      <td>Dinheiro</td>\n",
              "      <td>NoLocal</td>\n",
              "      <td>2023-05-16</td>\n",
              "    </tr>\n",
              "    <tr>\n",
              "      <th>2</th>\n",
              "      <td>TXN_4271903</td>\n",
              "      <td>Batata</td>\n",
              "      <td>4</td>\n",
              "      <td>10.0</td>\n",
              "      <td>NaN</td>\n",
              "      <td>Credito</td>\n",
              "      <td>NoLocal</td>\n",
              "      <td>2023-07-19</td>\n",
              "    </tr>\n",
              "    <tr>\n",
              "      <th>3</th>\n",
              "      <td>TXN_7034554</td>\n",
              "      <td>DogCompleto</td>\n",
              "      <td>2</td>\n",
              "      <td>15.0</td>\n",
              "      <td>30.0</td>\n",
              "      <td>UNKNOWN</td>\n",
              "      <td>UNKNOWN</td>\n",
              "      <td>2023-04-27</td>\n",
              "    </tr>\n",
              "    <tr>\n",
              "      <th>4</th>\n",
              "      <td>TXN_3160411</td>\n",
              "      <td>PastelDoce</td>\n",
              "      <td>2</td>\n",
              "      <td>12.0</td>\n",
              "      <td>24.0</td>\n",
              "      <td>Pix</td>\n",
              "      <td>NoLocal</td>\n",
              "      <td>2023-06-11</td>\n",
              "    </tr>\n",
              "  </tbody>\n",
              "</table>\n",
              "</div>"
            ],
            "text/plain": [
              "  ID da Transacao           Item Quantidade Valor Unitario Total do Pedido  \\\n",
              "0     TXN_1961373     PastelDoce          2           12.0            24.0   \n",
              "1     TXN_4977031  PastelSalgado          4           13.5            54.0   \n",
              "2     TXN_4271903         Batata          4           10.0             NaN   \n",
              "3     TXN_7034554    DogCompleto          2           15.0            30.0   \n",
              "4     TXN_3160411     PastelDoce          2           12.0            24.0   \n",
              "\n",
              "  Forma de Pagamento    Local Data da Transacao  \n",
              "0            Credito   Viagem        2023-09-08  \n",
              "1           Dinheiro  NoLocal        2023-05-16  \n",
              "2            Credito  NoLocal        2023-07-19  \n",
              "3            UNKNOWN  UNKNOWN        2023-04-27  \n",
              "4                Pix  NoLocal        2023-06-11  "
            ]
          },
          "execution_count": 60,
          "metadata": {},
          "output_type": "execute_result"
        }
      ],
      "source": [
        "df.head()"
      ]
    },
    {
      "cell_type": "markdown",
      "metadata": {
        "id": "2uAeLEy4NFr9"
      },
      "source": [
        "Logo na visualização dos primeiros itens do dataset já notamos que algumas colunas apresentam valores inesperados (ERROR, UNKNOWN) ou faltantes...\n",
        "\n",
        "Vamos explorar melhor esse dataset para entender com que tipos de problemas estaremos lidando."
      ]
    },
    {
      "cell_type": "code",
      "execution_count": 61,
      "metadata": {
        "id": "rT-ekQuEM2vn"
      },
      "outputs": [
        {
          "name": "stdout",
          "output_type": "stream",
          "text": [
            "<class 'pandas.core.frame.DataFrame'>\n",
            "RangeIndex: 10200 entries, 0 to 10199\n",
            "Data columns (total 8 columns):\n",
            " #   Column              Non-Null Count  Dtype \n",
            "---  ------              --------------  ----- \n",
            " 0   ID da Transacao     10200 non-null  object\n",
            " 1   Item                9857 non-null   object\n",
            " 2   Quantidade          10059 non-null  object\n",
            " 3   Valor Unitario      9681 non-null   object\n",
            " 4   Total do Pedido     9722 non-null   object\n",
            " 5   Forma de Pagamento  7564 non-null   object\n",
            " 6   Local               6870 non-null   object\n",
            " 7   Data da Transacao   10034 non-null  object\n",
            "dtypes: object(8)\n",
            "memory usage: 637.6+ KB\n"
          ]
        }
      ],
      "source": [
        "df.info()"
      ]
    },
    {
      "cell_type": "markdown",
      "metadata": {
        "id": "iUZwStZiNx2R"
      },
      "source": [
        "A primeira coisa que notamos é que todas as colunas estão com o tipo \"object\", até mesmo as colunas que deveriam ser numéricas como Quantidade, Valor Unitario, Total do Pedido.\n",
        "\n",
        "Para entender os tipos de valores que estão ocorrendo em cada uma das colunas, vamos utilizar do método .value_counts()"
      ]
    },
    {
      "cell_type": "code",
      "execution_count": 62,
      "metadata": {
        "id": "XdKQwWmBVAI0"
      },
      "outputs": [
        {
          "name": "stdout",
          "output_type": "stream",
          "text": [
            "Value counts para a coluna 'ID da Transacao':\n"
          ]
        },
        {
          "data": {
            "text/plain": [
              "ID da Transacao\n",
              "TXN_3633955    2\n",
              "TXN_3324387    2\n",
              "TXN_7805115    2\n",
              "TXN_1827212    2\n",
              "TXN_5333966    2\n",
              "              ..\n",
              "TXN_9933628    1\n",
              "TXN_6796890    1\n",
              "TXN_4583012    1\n",
              "TXN_8567525    1\n",
              "TXN_9226047    1\n",
              "Name: count, Length: 10000, dtype: int64"
            ]
          },
          "metadata": {},
          "output_type": "display_data"
        },
        {
          "name": "stdout",
          "output_type": "stream",
          "text": [
            "\n",
            "\n",
            "Value counts para a coluna 'Item':\n"
          ]
        },
        {
          "data": {
            "text/plain": [
              "Item\n",
              "Suco             1196\n",
              "PastelDoce       1181\n",
              "DogCompleto      1175\n",
              "PastelSalgado    1161\n",
              "DogSimples       1156\n",
              "Refrigerante     1118\n",
              "Batata           1114\n",
              "Hamburguer       1107\n",
              "UNKNOWN           351\n",
              "ERROR             298\n",
              "Name: count, dtype: int64"
            ]
          },
          "metadata": {},
          "output_type": "display_data"
        },
        {
          "name": "stdout",
          "output_type": "stream",
          "text": [
            "\n",
            "\n",
            "Value counts para a coluna 'Quantidade':\n"
          ]
        },
        {
          "data": {
            "text/plain": [
              "Quantidade\n",
              "5          2051\n",
              "2          2011\n",
              "4          1907\n",
              "3          1883\n",
              "1          1863\n",
              "UNKNOWN     173\n",
              "ERROR       171\n",
              "Name: count, dtype: int64"
            ]
          },
          "metadata": {},
          "output_type": "display_data"
        },
        {
          "name": "stdout",
          "output_type": "stream",
          "text": [
            "\n",
            "\n",
            "Value counts para a coluna 'Valor Unitario':\n"
          ]
        },
        {
          "data": {
            "text/plain": [
              "Valor Unitario\n",
              "12.0       2214\n",
              "9.0        1118\n",
              "15.0       1104\n",
              "13.5       1052\n",
              "8.0        1023\n",
              "1.5        1018\n",
              "10.0       1013\n",
              "ERROR       257\n",
              "UNKNOWN     253\n",
              "4.0          93\n",
              "3.0          89\n",
              "5.0          62\n",
              "6.0          55\n",
              "20.0         50\n",
              "2.0          42\n",
              "1.0          39\n",
              "16.0         36\n",
              "24.0         35\n",
              "18.0         30\n",
              "7.5          30\n",
              "4.5          27\n",
              "25.0         24\n",
              "30.0         17\n",
              "Name: count, dtype: int64"
            ]
          },
          "metadata": {},
          "output_type": "display_data"
        },
        {
          "name": "stdout",
          "output_type": "stream",
          "text": [
            "\n",
            "\n",
            "Value counts para a coluna 'Total do Pedido':\n"
          ]
        },
        {
          "data": {
            "text/plain": [
              "Total do Pedido\n",
              "60.0       718\n",
              "36.0       682\n",
              "24.0       640\n",
              "12.0       481\n",
              "27.0       468\n",
              "40.0       438\n",
              "45.0       422\n",
              "30.0       421\n",
              "48.0       420\n",
              "20.0       281\n",
              "UNKNOWN    262\n",
              "15.0       261\n",
              "18.0       260\n",
              "3.0        251\n",
              "75.0       250\n",
              "ERROR      248\n",
              "9.0        237\n",
              "6.0        236\n",
              "67.5       231\n",
              "10.0       230\n",
              "7.5        227\n",
              "16.0       225\n",
              "8.0        219\n",
              "32.0       214\n",
              "13.5       210\n",
              "50.0       210\n",
              "54.0       208\n",
              "4.5        207\n",
              "40.5       190\n",
              "1.5        184\n",
              "4.0         25\n",
              "2.0         21\n",
              "5.0         17\n",
              "72.0        15\n",
              "80.0        15\n",
              "100.0       15\n",
              "22.5        12\n",
              "1.0         11\n",
              "90.0        11\n",
              "25.0        10\n",
              "120.0       10\n",
              "64.0         8\n",
              "150.0        6\n",
              "96.0         6\n",
              "125.0        5\n",
              "37.5         4\n",
              "Name: count, dtype: int64"
            ]
          },
          "metadata": {},
          "output_type": "display_data"
        },
        {
          "name": "stdout",
          "output_type": "stream",
          "text": [
            "\n",
            "\n",
            "Value counts para a coluna 'Forma de Pagamento':\n"
          ]
        },
        {
          "data": {
            "text/plain": [
              "Forma de Pagamento\n",
              "Credito     2330\n",
              "Pix         2327\n",
              "Dinheiro    2300\n",
              "ERROR        310\n",
              "UNKNOWN      297\n",
              "Name: count, dtype: int64"
            ]
          },
          "metadata": {},
          "output_type": "display_data"
        },
        {
          "name": "stdout",
          "output_type": "stream",
          "text": [
            "\n",
            "\n",
            "Value counts para a coluna 'Local':\n"
          ]
        },
        {
          "data": {
            "text/plain": [
              "Local\n",
              "NoLocal    3081\n",
              "Viagem     3078\n",
              "ERROR       363\n",
              "UNKNOWN     348\n",
              "Name: count, dtype: int64"
            ]
          },
          "metadata": {},
          "output_type": "display_data"
        },
        {
          "name": "stdout",
          "output_type": "stream",
          "text": [
            "\n",
            "\n",
            "Value counts para a coluna 'Data da Transacao':\n"
          ]
        },
        {
          "data": {
            "text/plain": [
              "Data da Transacao\n",
              "UNKNOWN       163\n",
              "ERROR         142\n",
              "2023-03-13     42\n",
              "2023-06-16     41\n",
              "2023-02-06     41\n",
              "             ... \n",
              "2023-07-22     15\n",
              "2023-11-24     15\n",
              "2023-07-30     15\n",
              "2023-03-11     14\n",
              "2023-02-17     14\n",
              "Name: count, Length: 367, dtype: int64"
            ]
          },
          "metadata": {},
          "output_type": "display_data"
        },
        {
          "name": "stdout",
          "output_type": "stream",
          "text": [
            "\n",
            "\n"
          ]
        }
      ],
      "source": [
        "for col in df.columns:\n",
        "  print(f\"Value counts para a coluna '{col}':\")\n",
        "  value_counts = df[col].value_counts()\n",
        "  display(value_counts)\n",
        "  print(\"\\n\")"
      ]
    },
    {
      "cell_type": "markdown",
      "metadata": {
        "id": "GilRMfgfWP1E"
      },
      "source": [
        "Com base nas tabelas, podemos ver que existem colunas com valores nulos e tipos de dados com ruído como 'ERROR' ou 'UNKNOWN'.\n",
        "\n",
        "Vamos tratar esses erros, padronizando todos esses casos de ruído para um valor nulo"
      ]
    },
    {
      "cell_type": "code",
      "execution_count": 63,
      "metadata": {
        "id": "5bXT0ie9EtQ8"
      },
      "outputs": [],
      "source": [
        "df.replace(['ERROR', 'UNKNOWN'], np.nan, inplace=True)"
      ]
    },
    {
      "cell_type": "code",
      "execution_count": 64,
      "metadata": {
        "id": "oTB5WtrDOOWn"
      },
      "outputs": [
        {
          "name": "stdout",
          "output_type": "stream",
          "text": [
            "Valores nulos por coluna:\n"
          ]
        },
        {
          "data": {
            "text/plain": [
              "ID da Transacao          0\n",
              "Item                   992\n",
              "Quantidade             485\n",
              "Valor Unitario        1029\n",
              "Total do Pedido        988\n",
              "Forma de Pagamento    3243\n",
              "Local                 4041\n",
              "Data da Transacao      471\n",
              "dtype: int64"
            ]
          },
          "metadata": {},
          "output_type": "display_data"
        },
        {
          "data": {
            "image/png": "[encoded data removed]",
            "text/plain": [
              "<Figure size 1000x500 with 1 Axes>"
            ]
          },
          "metadata": {},
          "output_type": "display_data"
        }
      ],
      "source": [
        "# vamos contar novamente quantos valore nulos existem em cada coluna\n",
        "print(\"Valores nulos por coluna:\")\n",
        "display(df.isnull().sum())\n",
        "\n",
        "\n",
        "plt.figure(figsize=(10, 5))\n",
        "df.isnull().sum().plot(kind='bar')\n",
        "plt.title('Quantidade de valores nulos por coluna')\n",
        "plt.show()"
      ]
    },
    {
      "cell_type": "markdown",
      "metadata": {
        "id": "uQHGGXWXEtQ8"
      },
      "source": [
        "Agora que padronizamos os casos de 'ERROR' e 'UNKNOWN' como valores faltantes, podemos ajustar o tipo das colunas:"
      ]
    },
    {
      "cell_type": "code",
      "execution_count": 65,
      "metadata": {
        "id": "fK3Vwk3wEtQ8"
      },
      "outputs": [
        {
          "name": "stdout",
          "output_type": "stream",
          "text": [
            "<class 'pandas.core.frame.DataFrame'>\n",
            "RangeIndex: 10200 entries, 0 to 10199\n",
            "Data columns (total 8 columns):\n",
            " #   Column              Non-Null Count  Dtype  \n",
            "---  ------              --------------  -----  \n",
            " 0   ID da Transacao     10200 non-null  object \n",
            " 1   Item                9208 non-null   object \n",
            " 2   Quantidade          9715 non-null   float64\n",
            " 3   Valor Unitario      9171 non-null   float64\n",
            " 4   Total do Pedido     9212 non-null   float64\n",
            " 5   Forma de Pagamento  6957 non-null   object \n",
            " 6   Local               6159 non-null   object \n",
            " 7   Data da Transacao   9729 non-null   object \n",
            "dtypes: float64(3), object(5)\n",
            "memory usage: 637.6+ KB\n"
          ]
        }
      ],
      "source": [
        "df['Quantidade'] = pd.to_numeric(df['Quantidade'])\n",
        "df['Valor Unitario'] = pd.to_numeric(df['Valor Unitario'])\n",
        "df['Total do Pedido'] = pd.to_numeric(df['Total do Pedido'])\n",
        "\n",
        "df.info()"
      ]
    },
    {
      "cell_type": "code",
      "execution_count": 66,
      "metadata": {
        "id": "DOHmagteEtQ8"
      },
      "outputs": [
        {
          "data": {
            "text/html": [
              "<div>\n",
              "<style scoped>\n",
              "    .dataframe tbody tr th:only-of-type {\n",
              "        vertical-align: middle;\n",
              "    }\n",
              "\n",
              "    .dataframe tbody tr th {\n",
              "        vertical-align: top;\n",
              "    }\n",
              "\n",
              "    .dataframe thead th {\n",
              "        text-align: right;\n",
              "    }\n",
              "</style>\n",
              "<table border=\"1\" class=\"dataframe\">\n",
              "  <thead>\n",
              "    <tr style=\"text-align: right;\">\n",
              "      <th></th>\n",
              "      <th>ID da Transacao</th>\n",
              "      <th>Item</th>\n",
              "      <th>Quantidade</th>\n",
              "      <th>Valor Unitario</th>\n",
              "      <th>Total do Pedido</th>\n",
              "      <th>Forma de Pagamento</th>\n",
              "      <th>Local</th>\n",
              "      <th>Data da Transacao</th>\n",
              "    </tr>\n",
              "  </thead>\n",
              "  <tbody>\n",
              "    <tr>\n",
              "      <th>0</th>\n",
              "      <td>TXN_1961373</td>\n",
              "      <td>PastelDoce</td>\n",
              "      <td>2.0</td>\n",
              "      <td>12.0</td>\n",
              "      <td>24.0</td>\n",
              "      <td>Credito</td>\n",
              "      <td>Viagem</td>\n",
              "      <td>2023-09-08</td>\n",
              "    </tr>\n",
              "    <tr>\n",
              "      <th>1</th>\n",
              "      <td>TXN_4977031</td>\n",
              "      <td>PastelSalgado</td>\n",
              "      <td>4.0</td>\n",
              "      <td>13.5</td>\n",
              "      <td>54.0</td>\n",
              "      <td>Dinheiro</td>\n",
              "      <td>NoLocal</td>\n",
              "      <td>2023-05-16</td>\n",
              "    </tr>\n",
              "    <tr>\n",
              "      <th>2</th>\n",
              "      <td>TXN_4271903</td>\n",
              "      <td>Batata</td>\n",
              "      <td>4.0</td>\n",
              "      <td>10.0</td>\n",
              "      <td>NaN</td>\n",
              "      <td>Credito</td>\n",
              "      <td>NoLocal</td>\n",
              "      <td>2023-07-19</td>\n",
              "    </tr>\n",
              "    <tr>\n",
              "      <th>3</th>\n",
              "      <td>TXN_7034554</td>\n",
              "      <td>DogCompleto</td>\n",
              "      <td>2.0</td>\n",
              "      <td>15.0</td>\n",
              "      <td>30.0</td>\n",
              "      <td>NaN</td>\n",
              "      <td>NaN</td>\n",
              "      <td>2023-04-27</td>\n",
              "    </tr>\n",
              "    <tr>\n",
              "      <th>4</th>\n",
              "      <td>TXN_3160411</td>\n",
              "      <td>PastelDoce</td>\n",
              "      <td>2.0</td>\n",
              "      <td>12.0</td>\n",
              "      <td>24.0</td>\n",
              "      <td>Pix</td>\n",
              "      <td>NoLocal</td>\n",
              "      <td>2023-06-11</td>\n",
              "    </tr>\n",
              "  </tbody>\n",
              "</table>\n",
              "</div>"
            ],
            "text/plain": [
              "  ID da Transacao           Item  Quantidade  Valor Unitario  Total do Pedido  \\\n",
              "0     TXN_1961373     PastelDoce         2.0            12.0             24.0   \n",
              "1     TXN_4977031  PastelSalgado         4.0            13.5             54.0   \n",
              "2     TXN_4271903         Batata         4.0            10.0              NaN   \n",
              "3     TXN_7034554    DogCompleto         2.0            15.0             30.0   \n",
              "4     TXN_3160411     PastelDoce         2.0            12.0             24.0   \n",
              "\n",
              "  Forma de Pagamento    Local Data da Transacao  \n",
              "0            Credito   Viagem        2023-09-08  \n",
              "1           Dinheiro  NoLocal        2023-05-16  \n",
              "2            Credito  NoLocal        2023-07-19  \n",
              "3                NaN      NaN        2023-04-27  \n",
              "4                Pix  NoLocal        2023-06-11  "
            ]
          },
          "execution_count": 66,
          "metadata": {},
          "output_type": "execute_result"
        }
      ],
      "source": [
        "df.head()"
      ]
    },
    {
      "cell_type": "markdown",
      "metadata": {
        "id": "XwR9oiHdEtQ8"
      },
      "source": [
        "**Exercício**: Apresente um objetivo de análise desses dados e justifique qual é a melhor maneira de se tratar os valores nulos em cada uma das colunas.\n"
      ]
    },
    {
      "cell_type": "markdown",
      "metadata": {
        "id": "P0Krux7QEtQ8"
      },
      "source": [
        "**Prática**: Implemente a solução de limpeza proposta para cada coluna, após isso desenvolva uma análise do cenário proposto como objetivo de uso desse dataset."
      ]
    },
    {
      "cell_type": "markdown",
      "metadata": {
        "id": "HDm4ivi3EtQ8"
      },
      "source": [
        "### Métodos Importantes para Limpeza"
      ]
    },
    {
      "cell_type": "code",
      "execution_count": 67,
      "metadata": {
        "id": "u-soK730EtQ8"
      },
      "outputs": [],
      "source": [
        "# Ler datasets\n",
        "# df = pd.read_csv(\"file.csv\")\n",
        "# df = pd.read_excel(\"file.xlsx\")\n",
        "# df = pd.read_json(\"file.json\")\n",
        "# df = pd.read_sql(query, con)\n",
        "\n",
        "# # Escrever datasets em arquivos\n",
        "# df.to_csv(\"file.csv\")\n",
        "# df.to_excel(\"file.xlsx\")\n",
        "# df.to_json(\"file.json\")\n",
        "\n",
        "# # Manipulando dataframes\n",
        "# data = {'Name': ['Alice', 'Bob'], 'Age': [25, 30]}\n",
        "# df = pd.DataFrame(data)            # Criando um dataframe\n",
        "# df = pd.concat([df1, df2])         # concatenando dataframes\n",
        "# df = pd.merge(df1, df2, on='key')  # integrando dataframes em uma dada coluna\n",
        "\n",
        "# # Vizualizando e inspecionando dados\n",
        "# df.head()                          # primeiras 5 linhas\n",
        "# df.tail()                          # últimas 5 linhas\n",
        "# df.info()                          # resumo do dataframe\n",
        "# df.describe()                      # resumo estatístico das colunas numéricas\n",
        "# df.shape                           # dimensões do dataframe\n",
        "# df.columns                         # lista de colunas do dataframe\n",
        "# df.dtypes                          # tipos de dados das colunas\n",
        "# df.sample(5)                       # amostragem aleatória de 5 linhas\n",
        "\n",
        "# # Selecionando dados\n",
        "# df['column']                  # seleciona uma coluna\n",
        "# df[['col1', 'col2']]          # seleciona múltiplas colunas\n",
        "# df.iloc[row, col]           # seleciona linhas e colunas por índices\n",
        "# df.loc[row, col]            # seleciona linhas e colunas por rótulos\n",
        "# df[df['column'] > value]    # seleciona linhas baseado em condições\n",
        "# df.query('column > value')  # seleciona linhas baseado em condições\n",
        "# df.mean()                   # calcula a média de cada coluna\n",
        "# df.median()                 # calcula a mediana de cada coluna\n",
        "# df.sum()                    # calcula a soma de cada coluna\n",
        "# df.min()                    # valores mínimos em cada coluna\n",
        "# df.max()                    # valores máximos em cada coluna\n",
        "# df.count()                  # contagem de valores não nulos em cada coluna\n",
        "# df.groupby('column')        # agrupa dados por uma coluna\n",
        "# df.agg({'col1': 'mean', 'col2': 'sum'}) # aplica funções de agregação em colunas específicas\n",
        "\n",
        "# # Ordenação\n",
        "# df.sort_values(by='column')        # ordena o dataframe por uma coluna\n",
        "# df.sort_values(by='column', ascending=False)  # ordena em ordem decrescente\n",
        "# df.rank()  # atribui uma classificação a cada valor\n",
        "\n",
        "# # Lidando com dados faltantes\n",
        "# df.isnull()         # detecta valores faltantes\n",
        "# df.notnull()        # detecta valores não faltantes\n",
        "# df.dropna()         # remove linhas com valores faltantes\n",
        "# df.fillna(value)    # preenche valores faltantes com um valor específico\n",
        "# df.interpolate()    # preenche valores faltantes com base em valores próximos\n",
        "\n",
        "# # Operações com strings\n",
        "# df['col'].str.lower()              # converte strings para minúsculas\n",
        "# df['col'].str.upper()              # converte strings para maiúsculas\n",
        "# df['col'].str.strip()              # remove espaços em branco\n",
        "# df['col'].str.contains('text')     # verifica se a string contém um texto\n",
        "# df['col'].str.replace('old', 'new')  # substitui um texto por outro"
      ]
    },
    {
      "cell_type": "markdown",
      "metadata": {},
      "source": [
        "**Exercício**: Apresente um objetivo de análise desses dados e justifique qual é a melhor maneira de se tratar os valores nulos em cada uma das colunas.\n"
      ]
    },
    {
      "cell_type": "markdown",
      "metadata": {},
      "source": [
        "Poderíamos utilizar o dataset para identificar qual o valor médio gasto por método de pagamento. A melhor maneira para tratar os valores nulos de cada uma das colunas é:\n",
        "\n",
        "**Item**: _procurar um item com base no valor unitário._\n",
        "\n",
        "**Quantidade**: _dividir o total do pedido pelo valor unitário._\n",
        "\n",
        "**Valor Unitário**: _procurar valor unitário com base no nome do item._\n",
        "\n",
        "**Total do Pedido**: _multiplicar quantidade por valor unitário._\n",
        "\n",
        "**Forma de Pagamento**: _ignorar a amostra, visto que não temos dados suficientes para inferir._\n",
        "\n",
        "**Local**: _ignorar a amostra, visto que não temos dados suficientes para inferir._\n",
        "\n",
        "**Data da Transação**: _ignorar a amostra, visto que não temos dados suficientes para inferir._"
      ]
    },
    {
      "cell_type": "markdown",
      "metadata": {},
      "source": [
        "**Prática**: Implemente a solução de limpeza proposta para cada coluna, após isso desenvolva uma análise do cenário proposto como objetivo de uso desse dataset."
      ]
    },
    {
      "cell_type": "markdown",
      "metadata": {},
      "source": [
        "**Item**: procurar um item com base no valor unitário."
      ]
    },
    {
      "cell_type": "code",
      "execution_count": 68,
      "metadata": {},
      "outputs": [
        {
          "data": {
            "text/plain": [
              "Item           Valor Unitario\n",
              "PastelDoce     12.0              1078\n",
              "Suco           9.0               1067\n",
              "DogSimples     12.0              1054\n",
              "PastelSalgado  13.5              1052\n",
              "DogCompleto    15.0              1046\n",
              "Refrigerante   8.0               1008\n",
              "Batata         10.0               996\n",
              "Hamburguer     1.5                985\n",
              "Name: count, dtype: int64"
            ]
          },
          "execution_count": 68,
          "metadata": {},
          "output_type": "execute_result"
        }
      ],
      "source": [
        "# Busca os items e seus valores unitários.\n",
        "item_vu = df[['Item', 'Valor Unitario']]\n",
        "\n",
        "item_vu.value_counts()\n"
      ]
    },
    {
      "cell_type": "code",
      "execution_count": 69,
      "metadata": {},
      "outputs": [],
      "source": [
        "# Substitui o valor null da coluna item, com base no valor unitário\n",
        "# Não foi possível realizar o tratamento para PastelDoce e DogSimples, pois possuem o mesmo valor.\n",
        "\n",
        "df.loc[(df['Item'].isnull()) & (df['Valor Unitario'] == 9.0), 'Item'] = 'Suco'\n",
        "df.loc[(df['Item'].isnull()) & (df['Valor Unitario'] == 13.5), 'Item'] = 'PastelSalgado'\n",
        "df.loc[(df['Item'].isnull()) & (df['Valor Unitario'] == 15.0), 'Item'] = 'DogCompleto'\n",
        "df.loc[(df['Item'].isnull()) & (df['Valor Unitario'] == 8.0), 'Item'] = 'Refrigerante'\n",
        "df.loc[(df['Item'].isnull()) & (df['Valor Unitario'] == 10.0), 'Item'] = 'Batata'\n",
        "df.loc[(df['Item'].isnull()) & (df['Valor Unitario'] == 1.5), 'Item'] = 'Hamburguer'\n",
        "\n",
        "# Derruba o restante dos registros null\n",
        "df = df.dropna(subset=['Item'])\n"
      ]
    },
    {
      "cell_type": "code",
      "execution_count": 70,
      "metadata": {},
      "outputs": [
        {
          "name": "stdout",
          "output_type": "stream",
          "text": [
            "Valores nulos em Item:\n"
          ]
        },
        {
          "data": {
            "text/plain": [
              "np.int64(0)"
            ]
          },
          "metadata": {},
          "output_type": "display_data"
        }
      ],
      "source": [
        "# Conta quantos valore nulos existem em Item\n",
        "print(\"Valores nulos em Item:\")\n",
        "display(df['Item'].isnull().sum())"
      ]
    },
    {
      "cell_type": "markdown",
      "metadata": {},
      "source": [
        "**Quantidade**: _dividir o total do pedido pelo valor unitário._"
      ]
    },
    {
      "cell_type": "code",
      "execution_count": 71,
      "metadata": {},
      "outputs": [
        {
          "name": "stdout",
          "output_type": "stream",
          "text": [
            "Valores nulos em Quantidade:\n"
          ]
        },
        {
          "data": {
            "text/plain": [
              "np.int64(439)"
            ]
          },
          "metadata": {},
          "output_type": "display_data"
        }
      ],
      "source": [
        "print(\"Valores nulos em Quantidade:\")\n",
        "display(df['Quantidade'].isnull().sum())"
      ]
    },
    {
      "cell_type": "code",
      "execution_count": 72,
      "metadata": {},
      "outputs": [],
      "source": [
        "# Filtra as linhas em que Quantidade é null\n",
        "filter = df['Quantidade'].isnull()\n",
        "\n",
        "# Substitui quantidade pela divisão do total do pedido pelo valor unitario\n",
        "df.loc[filter, 'Quantidade'] = df.loc[filter, 'Total do Pedido'] / df.loc[filter, 'Valor Unitario']"
      ]
    },
    {
      "cell_type": "code",
      "execution_count": 73,
      "metadata": {},
      "outputs": [
        {
          "name": "stdout",
          "output_type": "stream",
          "text": [
            "Valores nulos em Quantidade:\n"
          ]
        },
        {
          "data": {
            "text/plain": [
              "np.int64(56)"
            ]
          },
          "metadata": {},
          "output_type": "display_data"
        }
      ],
      "source": [
        "print(\"Valores nulos em Quantidade:\")\n",
        "display(df['Quantidade'].isnull().sum())"
      ]
    },
    {
      "cell_type": "markdown",
      "metadata": {},
      "source": [
        "**Valor Unitário**: _procurar valor unitário com base no nome do item._"
      ]
    },
    {
      "cell_type": "code",
      "execution_count": 74,
      "metadata": {},
      "outputs": [
        {
          "name": "stdout",
          "output_type": "stream",
          "text": [
            "Valores nulos em Valor Unitario:\n"
          ]
        },
        {
          "data": {
            "text/plain": [
              "np.int64(922)"
            ]
          },
          "metadata": {},
          "output_type": "display_data"
        }
      ],
      "source": [
        "print(\"Valores nulos em Valor Unitario:\")\n",
        "display(df['Valor Unitario'].isnull().sum())"
      ]
    },
    {
      "cell_type": "code",
      "execution_count": 75,
      "metadata": {},
      "outputs": [],
      "source": [
        "# Substitui os valores null de Valor Unitario de acordo com o nome do item\n",
        "df.loc[(df['Valor Unitario'].isnull()) & (df['Item'] == 'PastelDoce'), 'Valor Unitario'] = 12.0\n",
        "df.loc[(df['Valor Unitario'].isnull()) & (df['Item'] == 'Suco'), 'Valor Unitario'] = 9.0\n",
        "df.loc[(df['Valor Unitario'].isnull()) & (df['Item'] == 'DogSimples'), 'Valor Unitario'] = 12.0\n",
        "df.loc[(df['Valor Unitario'].isnull()) & (df['Item'] == 'PastelSalgado'), 'Valor Unitario'] = 13.5\n",
        "df.loc[(df['Valor Unitario'].isnull()) & (df['Item'] == 'DogCompleto'), 'Valor Unitario'] = 15.0\n",
        "df.loc[(df['Valor Unitario'].isnull()) & (df['Item'] == 'Refrigerante'), 'Valor Unitario'] = 8.0\n",
        "df.loc[(df['Valor Unitario'].isnull()) & (df['Item'] == 'Batata'), 'Valor Unitario'] = 10.0\n",
        "df.loc[(df['Valor Unitario'].isnull()) & (df['Item'] == 'Hamburguer'), 'Valor Unitario'] = 1.5"
      ]
    },
    {
      "cell_type": "code",
      "execution_count": 76,
      "metadata": {},
      "outputs": [
        {
          "name": "stdout",
          "output_type": "stream",
          "text": [
            "Valores nulos em Valor Unitario:\n"
          ]
        },
        {
          "data": {
            "text/plain": [
              "np.int64(0)"
            ]
          },
          "metadata": {},
          "output_type": "display_data"
        }
      ],
      "source": [
        "print(\"Valores nulos em Valor Unitario:\")\n",
        "display(df['Valor Unitario'].isnull().sum())"
      ]
    },
    {
      "cell_type": "markdown",
      "metadata": {},
      "source": [
        "**Total do Pedido**: _multiplicar quantidade por valor unitário._"
      ]
    },
    {
      "cell_type": "code",
      "execution_count": 77,
      "metadata": {},
      "outputs": [
        {
          "name": "stdout",
          "output_type": "stream",
          "text": [
            "Valores nulos em Total do Pedido:\n"
          ]
        },
        {
          "data": {
            "text/plain": [
              "np.int64(892)"
            ]
          },
          "metadata": {},
          "output_type": "display_data"
        }
      ],
      "source": [
        "print(\"Valores nulos em Total do Pedido:\")\n",
        "display(df['Total do Pedido'].isnull().sum())"
      ]
    },
    {
      "cell_type": "code",
      "execution_count": 78,
      "metadata": {},
      "outputs": [],
      "source": [
        "# Filtra as linhas em que Total do Pedido é null\n",
        "filter = df['Total do Pedido'].isnull()\n",
        "\n",
        "# Substitui Total do Pedido pela multiplicação da quantidade pelo valor unitario\n",
        "df.loc[filter, 'Total do Pedido'] = df.loc[filter, 'Quantidade'] * df.loc[filter, 'Valor Unitario']"
      ]
    },
    {
      "cell_type": "code",
      "execution_count": 79,
      "metadata": {},
      "outputs": [
        {
          "name": "stdout",
          "output_type": "stream",
          "text": [
            "Valores nulos em Total do Pedido:\n"
          ]
        },
        {
          "data": {
            "text/plain": [
              "np.int64(41)"
            ]
          },
          "metadata": {},
          "output_type": "display_data"
        }
      ],
      "source": [
        "print(\"Valores nulos em Total do Pedido:\")\n",
        "display(df['Total do Pedido'].isnull().sum())"
      ]
    },
    {
      "cell_type": "markdown",
      "metadata": {},
      "source": [
        "**Análise do Cenário Proposto Como Objetivo de Uso Desse Dataset**\n",
        "\n",
        "> Poderíamos utilizar o dataset para identificar qual o valor médio gasto por método de pagamento."
      ]
    },
    {
      "cell_type": "code",
      "execution_count": 80,
      "metadata": {},
      "outputs": [
        {
          "name": "stdout",
          "output_type": "stream",
          "text": [
            "Valores nulos por coluna:\n"
          ]
        },
        {
          "data": {
            "text/plain": [
              "ID da Transacao          0\n",
              "Item                     0\n",
              "Quantidade              56\n",
              "Valor Unitario           0\n",
              "Total do Pedido         41\n",
              "Forma de Pagamento    3002\n",
              "Local                 3720\n",
              "Data da Transacao      434\n",
              "dtype: int64"
            ]
          },
          "metadata": {},
          "output_type": "display_data"
        }
      ],
      "source": [
        "print(\"Valores nulos por coluna:\")\n",
        "display(df.isnull().sum())"
      ]
    },
    {
      "cell_type": "code",
      "execution_count": 81,
      "metadata": {},
      "outputs": [],
      "source": [
        "# Remove linhas onde Forma de Pagamento é null\n",
        "df = df.dropna(subset=['Forma de Pagamento'])"
      ]
    },
    {
      "cell_type": "code",
      "execution_count": 82,
      "metadata": {},
      "outputs": [
        {
          "name": "stdout",
          "output_type": "stream",
          "text": [
            "Valores nulos por coluna:\n"
          ]
        },
        {
          "data": {
            "text/plain": [
              "ID da Transacao          0\n",
              "Item                     0\n",
              "Quantidade              36\n",
              "Valor Unitario           0\n",
              "Total do Pedido         26\n",
              "Forma de Pagamento       0\n",
              "Local                 2499\n",
              "Data da Transacao      281\n",
              "dtype: int64"
            ]
          },
          "metadata": {},
          "output_type": "display_data"
        }
      ],
      "source": [
        "print(\"Valores nulos por coluna:\")\n",
        "display(df.isnull().sum())"
      ]
    },
    {
      "cell_type": "code",
      "execution_count": 83,
      "metadata": {},
      "outputs": [
        {
          "data": {
            "text/plain": [
              "Forma de Pagamento\n",
              "Credito     30.964117\n",
              "Dinheiro    31.274941\n",
              "Pix         30.675625\n",
              "Name: Total do Pedido, dtype: float64"
            ]
          },
          "metadata": {},
          "output_type": "display_data"
        }
      ],
      "source": [
        "# Calcula e exibe na tela o valor médio gasto de acordo com a forma de pagamento\n",
        "display(df.groupby('Forma de Pagamento')['Total do Pedido'].mean())"
      ]
    }
  ],
  "metadata": {
    "colab": {
      "include_colab_link": true,
      "provenance": []
    },
    "kernelspec": {
      "display_name": "Python 3",
      "name": "python3"
    },
    "language_info": {
      "codemirror_mode": {
        "name": "ipython",
        "version": 3
      },
      "file_extension": ".py",
      "mimetype": "text/x-python",
      "name": "python",
      "nbconvert_exporter": "python",
      "pygments_lexer": "ipython3",
      "version": "3.12.6"
    }
  },
  "nbformat": 4,
  "nbformat_minor": 0
}
